{
 "cells": [
  {
   "cell_type": "code",
   "execution_count": 3,
   "metadata": {},
   "outputs": [],
   "source": [
    "from battery.battery import Battery\n",
    "from price_modelling.price_path_generator import IDPriceSimulator\n",
    "from price_modelling.global_keys import *\n",
    "from optimization.rolling_intrinsic import RollingIntrinsicStrategy\n",
    "from optimization.LSM import LSMStrategy\n",
    "import pandas as pd\n",
    "import yaml\n",
    "import numpy as np"
   ]
  },
  {
   "cell_type": "markdown",
   "metadata": {},
   "source": [
    "Tune ID price simulator to ID VWAP and DA auction data"
   ]
  },
  {
   "cell_type": "code",
   "execution_count": 5,
   "metadata": {},
   "outputs": [],
   "source": [
    "df_all_VWAP_data_DA = pd.read_csv(\"../data/all_VWAP_DA_data_spring.csv\", sep=\";\")\n",
    "# set columns to datetime type\n",
    "df_all_VWAP_data_DA[\"delivery_start\"] = pd.to_datetime(df_all_VWAP_data_DA[\"delivery_start\"])\n",
    "df_all_VWAP_data_DA[\"delivery_start_hour\"] = pd.to_datetime(df_all_VWAP_data_DA[\"delivery_start_hour\"])\n",
    "df_all_VWAP_data_DA[\"traded\"] = pd.to_datetime(df_all_VWAP_data_DA[\"traded\"])\n",
    "df_all_VWAP_data_DA = df_all_VWAP_data_DA.loc[np.abs(df_all_VWAP_data_DA[\"delta_VWAP_DA\"]) < 300]\n",
    "\n",
    "price_generator_DA = IDPriceSimulator(config)\n",
    "price_generator_DA.fit_model(df_all_VWAP_data_DA)"
   ]
  },
  {
   "cell_type": "code",
   "execution_count": 3,
   "metadata": {},
   "outputs": [
    {
     "data": {
      "application/vnd.plotly.v1+json": {
       "config": {
        "plotlyServerURL": "https://plot.ly"
       },
       "data": [
        {
         "hovertemplate": "variable=$\\mu$<br>delivery_start_time=%{x}<br>value=%{y}<extra></extra>",
         "legendgroup": "$\\mu$",
         "line": {
          "color": "#636efa",
          "dash": "solid"
         },
         "marker": {
          "symbol": "circle"
         },
         "mode": "lines",
         "name": "$\\mu$",
         "orientation": "v",
         "showlegend": true,
         "type": "scatter",
         "x": [
          "00:00:00",
          "00:15:00",
          "00:30:00",
          "00:45:00",
          "01:00:00",
          "01:15:00",
          "01:30:00",
          "01:45:00",
          "02:00:00",
          "02:15:00",
          "02:30:00",
          "02:45:00",
          "03:00:00",
          "03:15:00",
          "03:30:00",
          "03:45:00",
          "04:00:00",
          "04:15:00",
          "04:30:00",
          "04:45:00",
          "05:00:00",
          "05:15:00",
          "05:30:00",
          "05:45:00",
          "06:00:00",
          "06:15:00",
          "06:30:00",
          "06:45:00",
          "07:00:00",
          "07:15:00",
          "07:30:00",
          "07:45:00",
          "08:00:00",
          "08:15:00",
          "08:30:00",
          "08:45:00",
          "09:00:00",
          "09:15:00",
          "09:30:00",
          "09:45:00",
          "10:00:00",
          "10:15:00",
          "10:30:00",
          "10:45:00",
          "11:00:00",
          "11:15:00",
          "11:30:00",
          "11:45:00",
          "12:00:00",
          "12:15:00",
          "12:30:00",
          "12:45:00",
          "13:00:00",
          "13:15:00",
          "13:30:00",
          "13:45:00",
          "14:00:00",
          "14:15:00",
          "14:30:00",
          "14:45:00",
          "15:00:00",
          "15:15:00",
          "15:30:00",
          "15:45:00",
          "16:00:00",
          "16:15:00",
          "16:30:00",
          "16:45:00",
          "17:00:00",
          "17:15:00",
          "17:30:00",
          "17:45:00",
          "18:00:00",
          "18:15:00",
          "18:30:00",
          "18:45:00",
          "19:00:00",
          "19:15:00",
          "19:30:00",
          "19:45:00",
          "20:00:00",
          "20:15:00",
          "20:30:00",
          "20:45:00",
          "21:00:00",
          "21:15:00",
          "21:30:00",
          "21:45:00",
          "22:00:00",
          "22:15:00",
          "22:30:00",
          "22:45:00",
          "23:00:00",
          "23:15:00",
          "23:30:00",
          "23:45:00"
         ],
         "xaxis": "x",
         "y": {
          "bdata": "RFjtkZwsIEBRo2WIEXo4QMZMN634ZAFAznRqGatTEkDkwWfrVbwKQJwhOH/apPI/0tgH1VzDBEA6qucGAM0MQAverBZ46g/Af7gt+T/w+b/Q7mgqKTQVQHf9r64tzyJAX3Vc0nPCC8C+bo65ickbQBP+e1v70yVA+Y/7VMGwJkDO8mdQ864kwHORaRC3GgfAWTqlXXtrI8AcSBtpuOsRQN+eVlgpSCdAnVsn/UuFEUBstAWTSRn/v/spBxGUtC3AeVjVJTnMQUC8v8WWxJgbQFkHGgRSXx/Ab3T0MT0KPcDCKZ8HZW9CQBvseXY6jyVAIQNhUXKJIcBh1NgGtkA5wHTgn11wOUhACA3IFXYuHUDhXjOLFqYjwJdUDHLW/kDAQsxkNYB9OECrZ0Z+sOMOQGZ8TVReXR3An6PK6bMgP8C98x2zGFs4QMswMNcYOuU/D6eoq9yZIMD18VFEJsE5wMA6sxXhXS5AsRWCMuuKA0DMUZy3B4wbwIcJXvJF+DPARr/N0u05LsAmc2UeSksXwD68XPl3pfQ/+KlyNIKUJ0AsE1x8SHNAwHrfkSFWRSLArJ0w0kGOFkDN5B1Q7Pk1QG2KZ89zu0fAsSaMGO5PHMCOaym1GmcsQIVasFNkjkNAaWsXvhTURMAFM9mJWFUjwGm685OZ4itA33el48SSHcB913MvqBtCwAr0ea9TKC/AdIAvzMZyDEAgHMqiCUQ6QD1C8LaxJj/AQ7XaQGKiKMCqrF819ofxP7FYb58dakJAxcnY4AiFK0ClrmU/CT/9Px1dt2CFZxfA3IcbINhUMMCXRHeK6I09QPOmZHiN/AhAztJPtaSqJcDaVu2Zj5c1wD3gMvwm0TVA4RohK0fGE0D3PBelzcETwM46IkAiJTHA8wcelaYfMUDjeN3LQkoaQL6RiSpepu2/5PNKTv/78b9w8kK07f4lQPRVHaL6AyZAu+GrURduCMCsXTH7FeX3v2LTxpWe9iNAE7taaCNkEEAWKJrw/1fHv80uSZ6uRBTA",
          "dtype": "f8"
         },
         "yaxis": "y"
        },
        {
         "hovertemplate": "variable=$\\theta$<br>delivery_start_time=%{x}<br>value=%{y}<extra></extra>",
         "legendgroup": "$\\theta$",
         "line": {
          "color": "#EF553B",
          "dash": "solid"
         },
         "marker": {
          "symbol": "circle"
         },
         "mode": "lines",
         "name": "$\\theta$",
         "orientation": "v",
         "showlegend": true,
         "type": "scatter",
         "x": [
          "00:00:00",
          "00:15:00",
          "00:30:00",
          "00:45:00",
          "01:00:00",
          "01:15:00",
          "01:30:00",
          "01:45:00",
          "02:00:00",
          "02:15:00",
          "02:30:00",
          "02:45:00",
          "03:00:00",
          "03:15:00",
          "03:30:00",
          "03:45:00",
          "04:00:00",
          "04:15:00",
          "04:30:00",
          "04:45:00",
          "05:00:00",
          "05:15:00",
          "05:30:00",
          "05:45:00",
          "06:00:00",
          "06:15:00",
          "06:30:00",
          "06:45:00",
          "07:00:00",
          "07:15:00",
          "07:30:00",
          "07:45:00",
          "08:00:00",
          "08:15:00",
          "08:30:00",
          "08:45:00",
          "09:00:00",
          "09:15:00",
          "09:30:00",
          "09:45:00",
          "10:00:00",
          "10:15:00",
          "10:30:00",
          "10:45:00",
          "11:00:00",
          "11:15:00",
          "11:30:00",
          "11:45:00",
          "12:00:00",
          "12:15:00",
          "12:30:00",
          "12:45:00",
          "13:00:00",
          "13:15:00",
          "13:30:00",
          "13:45:00",
          "14:00:00",
          "14:15:00",
          "14:30:00",
          "14:45:00",
          "15:00:00",
          "15:15:00",
          "15:30:00",
          "15:45:00",
          "16:00:00",
          "16:15:00",
          "16:30:00",
          "16:45:00",
          "17:00:00",
          "17:15:00",
          "17:30:00",
          "17:45:00",
          "18:00:00",
          "18:15:00",
          "18:30:00",
          "18:45:00",
          "19:00:00",
          "19:15:00",
          "19:30:00",
          "19:45:00",
          "20:00:00",
          "20:15:00",
          "20:30:00",
          "20:45:00",
          "21:00:00",
          "21:15:00",
          "21:30:00",
          "21:45:00",
          "22:00:00",
          "22:15:00",
          "22:30:00",
          "22:45:00",
          "23:00:00",
          "23:15:00",
          "23:30:00",
          "23:45:00"
         ],
         "xaxis": "x",
         "y": {
          "bdata": "fNKOVsmnoj9r14+jjceIP43ttaD3xrA+casFzBX+oz+N7bWg98awPo3ttaD3xrA+je21oPfGsD6N7bWg98awPh/9SAMhsns/je21oPfGsD5usv521FsyPwH0pJM/8nc/8T0h8RuzrD84y6ihZ7GUPx0liZ/OZ5k/JjRDUlNEnz9HDVhrVuuhP43ttaD3xrA+FSkPgvbIjz9kAioWezaIP43ttaD3xrA+je21oPfGsD6N7bWg98awPo3ttaD3xrA+je21oPfGsD6N7bWg98awPo3ttaD3xrA+7VNKwuEWkT/+akaUmSGXP43ttaD3xrA+dQWUEnXoVD+i2imfUniZP5g3oFVpkJY/je21oPfGsD6N7bWg98awPo3ttaD3xrA+t5Z9oG1mhD+N7bWg98awPo3ttaD3xrA+je21oPfGsD4tU9KNwG96P43ttaD3xrA+je21oPfGsD6N7bWg98awPo3ttaD3xrA+je21oPfGsD6N7bWg98awPo3ttaD3xrA+je21oPfGsD6N7bWg98awPo3ttaD3xrA+je21oPfGsD6N7bWg98awPo3ttaD3xrA+HQDgVwCElT92BnPHyvGWP9d/YU7Q2Eo/JOzXsDb7dj8tgEJle2dGP7Bn3e6D/M4/0iXimR2rkj+cn2BiKQutP43ttaD3xrA+yshkpXV7eT8eBAkGKDyoP1qUl4w1T6Q/pTBN6EExpD8I65Mf4tSYP6WP/irdt6I/je21oPfGsD7mvlLZcE2SP43ttaD3xrA+01sqcxWrej8i8OwYdsCiP21t8hHcrHY/cmSTj3Yaoj/OKWeeK/FIP5dtKtsWrrs/K7DEBjg0jD+MzfcZOiVyP43ttaD3xrA+je21oPfGsD6N7bWg98awPo3ttaD3xrA+mqxu8zgVnT+N7bWg98awPkyrsTzKTKQ/Nx3Q6j9ojT8MF4w5xorYP8yrde7M4qE/PX/MQQMcVj8lVUnxDNerPy0csNPGKKU/je21oPfGsD6N7bWg98awPmY5l0Kh8Ew/",
          "dtype": "f8"
         },
         "yaxis": "y"
        },
        {
         "hovertemplate": "variable=$\\sigma$<br>delivery_start_time=%{x}<br>value=%{y}<extra></extra>",
         "legendgroup": "$\\sigma$",
         "line": {
          "color": "#00cc96",
          "dash": "solid"
         },
         "marker": {
          "symbol": "circle"
         },
         "mode": "lines",
         "name": "$\\sigma$",
         "orientation": "v",
         "showlegend": true,
         "type": "scatter",
         "x": [
          "00:00:00",
          "00:15:00",
          "00:30:00",
          "00:45:00",
          "01:00:00",
          "01:15:00",
          "01:30:00",
          "01:45:00",
          "02:00:00",
          "02:15:00",
          "02:30:00",
          "02:45:00",
          "03:00:00",
          "03:15:00",
          "03:30:00",
          "03:45:00",
          "04:00:00",
          "04:15:00",
          "04:30:00",
          "04:45:00",
          "05:00:00",
          "05:15:00",
          "05:30:00",
          "05:45:00",
          "06:00:00",
          "06:15:00",
          "06:30:00",
          "06:45:00",
          "07:00:00",
          "07:15:00",
          "07:30:00",
          "07:45:00",
          "08:00:00",
          "08:15:00",
          "08:30:00",
          "08:45:00",
          "09:00:00",
          "09:15:00",
          "09:30:00",
          "09:45:00",
          "10:00:00",
          "10:15:00",
          "10:30:00",
          "10:45:00",
          "11:00:00",
          "11:15:00",
          "11:30:00",
          "11:45:00",
          "12:00:00",
          "12:15:00",
          "12:30:00",
          "12:45:00",
          "13:00:00",
          "13:15:00",
          "13:30:00",
          "13:45:00",
          "14:00:00",
          "14:15:00",
          "14:30:00",
          "14:45:00",
          "15:00:00",
          "15:15:00",
          "15:30:00",
          "15:45:00",
          "16:00:00",
          "16:15:00",
          "16:30:00",
          "16:45:00",
          "17:00:00",
          "17:15:00",
          "17:30:00",
          "17:45:00",
          "18:00:00",
          "18:15:00",
          "18:30:00",
          "18:45:00",
          "19:00:00",
          "19:15:00",
          "19:30:00",
          "19:45:00",
          "20:00:00",
          "20:15:00",
          "20:30:00",
          "20:45:00",
          "21:00:00",
          "21:15:00",
          "21:30:00",
          "21:45:00",
          "22:00:00",
          "22:15:00",
          "22:30:00",
          "22:45:00",
          "23:00:00",
          "23:15:00",
          "23:30:00",
          "23:45:00"
         ],
         "xaxis": "x",
         "y": {
          "bdata": "iPD8ezv2GUBTEidz3coYQOBKSgGAHB1AwIDYfHecHECoY5+U0+AaQDAHfJH80BNAutUqWxwOE0APsEVtzJgTQBTc+ruPaBRAX3dreTUAGEBWLgVjK6cYQCEQ8KiDSRtAwUUAS6MEGkCZWfD5iRETQAiIsqeyFBRARwGGfsCCFkCr7II6ZNAYQJ1Lkgq09BtA6K4/zukyIkDDEkL8xBQkQFg/x5QoGSRAUiDkOquuIkDsZj+D6U0gQPmgLt5olCNAo6FKDbIhK0ACaRO06SUpQGDsfnIg0SNANFPyyWHcIkCa5TBzVMMhQHQDXMW9vRpAhauGeBQ2G0Ar8z7X+wodQJh14RgmPx5AdacdWXlgHEAgL1HTcw8jQPzEWNmbFCRARewZTEcjHkA6DzEqOO8gQMIRXagcZSFAVNv5ttbFH0BLjWjNXTsdQODPwcUhzyBAuZdEaB2sJUCczQio2rMiQCGH9d/QyB5ALCCVd4TzJUDDyFHL+MEkQFMsa8UNpyRAXjKeVwDJJUAB+uOdKOcjQEiEiPyLrSZAwrLTUX34JEB3w5X1wdskQD+HrFBHXSVAYiicVopOJEAx5yFBhrMeQM3R/z08PyNAv7t0dftgHEDMXPfs57kaQNWbhP1JaxxAlhlfGjv8HUCk/Y4/yG4fQJFURfGSFBtAKcPmtOrcG0C4Xg27HkwZQKfwyOn6WBdAPyBNWZk3GUAeHacf1x4lQB0J5iiX7RdAkZI8vi36IkDjA9VaG6kkQNLfkcMcjTFAOrC+VDHOMUC/jD4Gk0UwQEUg/Q9jKyhAyedOGPCJIUANXTi951IuQPQy750lwCtA3nPnYUGzHkDAyZJybSEaQGxd9V20uiRAUswLREXPIEDu97Y3xQkYQPXSoqZDexxAaXI+uqJzGEDiXpNeH4QUQAlhHvnNnxNA3g+G9EdqEUDkTHwwRR0qQP9EaoJ9LxtAJiUFon07FkBCgHIjItQfQGLfefkUuRxAbf/ieW6uF0DbM9zA/uIWQFVgDNFwgBZA",
          "dtype": "f8"
         },
         "yaxis": "y"
        }
       ],
       "layout": {
        "legend": {
         "title": {
          "text": "variable"
         },
         "tracegroupgap": 0
        },
        "template": {
         "data": {
          "bar": [
           {
            "error_x": {
             "color": "#2a3f5f"
            },
            "error_y": {
             "color": "#2a3f5f"
            },
            "marker": {
             "line": {
              "color": "#E5ECF6",
              "width": 0.5
             },
             "pattern": {
              "fillmode": "overlay",
              "size": 10,
              "solidity": 0.2
             }
            },
            "type": "bar"
           }
          ],
          "barpolar": [
           {
            "marker": {
             "line": {
              "color": "#E5ECF6",
              "width": 0.5
             },
             "pattern": {
              "fillmode": "overlay",
              "size": 10,
              "solidity": 0.2
             }
            },
            "type": "barpolar"
           }
          ],
          "carpet": [
           {
            "aaxis": {
             "endlinecolor": "#2a3f5f",
             "gridcolor": "white",
             "linecolor": "white",
             "minorgridcolor": "white",
             "startlinecolor": "#2a3f5f"
            },
            "baxis": {
             "endlinecolor": "#2a3f5f",
             "gridcolor": "white",
             "linecolor": "white",
             "minorgridcolor": "white",
             "startlinecolor": "#2a3f5f"
            },
            "type": "carpet"
           }
          ],
          "choropleth": [
           {
            "colorbar": {
             "outlinewidth": 0,
             "ticks": ""
            },
            "type": "choropleth"
           }
          ],
          "contour": [
           {
            "colorbar": {
             "outlinewidth": 0,
             "ticks": ""
            },
            "colorscale": [
             [
              0,
              "#0d0887"
             ],
             [
              0.1111111111111111,
              "#46039f"
             ],
             [
              0.2222222222222222,
              "#7201a8"
             ],
             [
              0.3333333333333333,
              "#9c179e"
             ],
             [
              0.4444444444444444,
              "#bd3786"
             ],
             [
              0.5555555555555556,
              "#d8576b"
             ],
             [
              0.6666666666666666,
              "#ed7953"
             ],
             [
              0.7777777777777778,
              "#fb9f3a"
             ],
             [
              0.8888888888888888,
              "#fdca26"
             ],
             [
              1,
              "#f0f921"
             ]
            ],
            "type": "contour"
           }
          ],
          "contourcarpet": [
           {
            "colorbar": {
             "outlinewidth": 0,
             "ticks": ""
            },
            "type": "contourcarpet"
           }
          ],
          "heatmap": [
           {
            "colorbar": {
             "outlinewidth": 0,
             "ticks": ""
            },
            "colorscale": [
             [
              0,
              "#0d0887"
             ],
             [
              0.1111111111111111,
              "#46039f"
             ],
             [
              0.2222222222222222,
              "#7201a8"
             ],
             [
              0.3333333333333333,
              "#9c179e"
             ],
             [
              0.4444444444444444,
              "#bd3786"
             ],
             [
              0.5555555555555556,
              "#d8576b"
             ],
             [
              0.6666666666666666,
              "#ed7953"
             ],
             [
              0.7777777777777778,
              "#fb9f3a"
             ],
             [
              0.8888888888888888,
              "#fdca26"
             ],
             [
              1,
              "#f0f921"
             ]
            ],
            "type": "heatmap"
           }
          ],
          "histogram": [
           {
            "marker": {
             "pattern": {
              "fillmode": "overlay",
              "size": 10,
              "solidity": 0.2
             }
            },
            "type": "histogram"
           }
          ],
          "histogram2d": [
           {
            "colorbar": {
             "outlinewidth": 0,
             "ticks": ""
            },
            "colorscale": [
             [
              0,
              "#0d0887"
             ],
             [
              0.1111111111111111,
              "#46039f"
             ],
             [
              0.2222222222222222,
              "#7201a8"
             ],
             [
              0.3333333333333333,
              "#9c179e"
             ],
             [
              0.4444444444444444,
              "#bd3786"
             ],
             [
              0.5555555555555556,
              "#d8576b"
             ],
             [
              0.6666666666666666,
              "#ed7953"
             ],
             [
              0.7777777777777778,
              "#fb9f3a"
             ],
             [
              0.8888888888888888,
              "#fdca26"
             ],
             [
              1,
              "#f0f921"
             ]
            ],
            "type": "histogram2d"
           }
          ],
          "histogram2dcontour": [
           {
            "colorbar": {
             "outlinewidth": 0,
             "ticks": ""
            },
            "colorscale": [
             [
              0,
              "#0d0887"
             ],
             [
              0.1111111111111111,
              "#46039f"
             ],
             [
              0.2222222222222222,
              "#7201a8"
             ],
             [
              0.3333333333333333,
              "#9c179e"
             ],
             [
              0.4444444444444444,
              "#bd3786"
             ],
             [
              0.5555555555555556,
              "#d8576b"
             ],
             [
              0.6666666666666666,
              "#ed7953"
             ],
             [
              0.7777777777777778,
              "#fb9f3a"
             ],
             [
              0.8888888888888888,
              "#fdca26"
             ],
             [
              1,
              "#f0f921"
             ]
            ],
            "type": "histogram2dcontour"
           }
          ],
          "mesh3d": [
           {
            "colorbar": {
             "outlinewidth": 0,
             "ticks": ""
            },
            "type": "mesh3d"
           }
          ],
          "parcoords": [
           {
            "line": {
             "colorbar": {
              "outlinewidth": 0,
              "ticks": ""
             }
            },
            "type": "parcoords"
           }
          ],
          "pie": [
           {
            "automargin": true,
            "type": "pie"
           }
          ],
          "scatter": [
           {
            "fillpattern": {
             "fillmode": "overlay",
             "size": 10,
             "solidity": 0.2
            },
            "type": "scatter"
           }
          ],
          "scatter3d": [
           {
            "line": {
             "colorbar": {
              "outlinewidth": 0,
              "ticks": ""
             }
            },
            "marker": {
             "colorbar": {
              "outlinewidth": 0,
              "ticks": ""
             }
            },
            "type": "scatter3d"
           }
          ],
          "scattercarpet": [
           {
            "marker": {
             "colorbar": {
              "outlinewidth": 0,
              "ticks": ""
             }
            },
            "type": "scattercarpet"
           }
          ],
          "scattergeo": [
           {
            "marker": {
             "colorbar": {
              "outlinewidth": 0,
              "ticks": ""
             }
            },
            "type": "scattergeo"
           }
          ],
          "scattergl": [
           {
            "marker": {
             "colorbar": {
              "outlinewidth": 0,
              "ticks": ""
             }
            },
            "type": "scattergl"
           }
          ],
          "scattermap": [
           {
            "marker": {
             "colorbar": {
              "outlinewidth": 0,
              "ticks": ""
             }
            },
            "type": "scattermap"
           }
          ],
          "scattermapbox": [
           {
            "marker": {
             "colorbar": {
              "outlinewidth": 0,
              "ticks": ""
             }
            },
            "type": "scattermapbox"
           }
          ],
          "scatterpolar": [
           {
            "marker": {
             "colorbar": {
              "outlinewidth": 0,
              "ticks": ""
             }
            },
            "type": "scatterpolar"
           }
          ],
          "scatterpolargl": [
           {
            "marker": {
             "colorbar": {
              "outlinewidth": 0,
              "ticks": ""
             }
            },
            "type": "scatterpolargl"
           }
          ],
          "scatterternary": [
           {
            "marker": {
             "colorbar": {
              "outlinewidth": 0,
              "ticks": ""
             }
            },
            "type": "scatterternary"
           }
          ],
          "surface": [
           {
            "colorbar": {
             "outlinewidth": 0,
             "ticks": ""
            },
            "colorscale": [
             [
              0,
              "#0d0887"
             ],
             [
              0.1111111111111111,
              "#46039f"
             ],
             [
              0.2222222222222222,
              "#7201a8"
             ],
             [
              0.3333333333333333,
              "#9c179e"
             ],
             [
              0.4444444444444444,
              "#bd3786"
             ],
             [
              0.5555555555555556,
              "#d8576b"
             ],
             [
              0.6666666666666666,
              "#ed7953"
             ],
             [
              0.7777777777777778,
              "#fb9f3a"
             ],
             [
              0.8888888888888888,
              "#fdca26"
             ],
             [
              1,
              "#f0f921"
             ]
            ],
            "type": "surface"
           }
          ],
          "table": [
           {
            "cells": {
             "fill": {
              "color": "#EBF0F8"
             },
             "line": {
              "color": "white"
             }
            },
            "header": {
             "fill": {
              "color": "#C8D4E3"
             },
             "line": {
              "color": "white"
             }
            },
            "type": "table"
           }
          ]
         },
         "layout": {
          "annotationdefaults": {
           "arrowcolor": "#2a3f5f",
           "arrowhead": 0,
           "arrowwidth": 1
          },
          "autotypenumbers": "strict",
          "coloraxis": {
           "colorbar": {
            "outlinewidth": 0,
            "ticks": ""
           }
          },
          "colorscale": {
           "diverging": [
            [
             0,
             "#8e0152"
            ],
            [
             0.1,
             "#c51b7d"
            ],
            [
             0.2,
             "#de77ae"
            ],
            [
             0.3,
             "#f1b6da"
            ],
            [
             0.4,
             "#fde0ef"
            ],
            [
             0.5,
             "#f7f7f7"
            ],
            [
             0.6,
             "#e6f5d0"
            ],
            [
             0.7,
             "#b8e186"
            ],
            [
             0.8,
             "#7fbc41"
            ],
            [
             0.9,
             "#4d9221"
            ],
            [
             1,
             "#276419"
            ]
           ],
           "sequential": [
            [
             0,
             "#0d0887"
            ],
            [
             0.1111111111111111,
             "#46039f"
            ],
            [
             0.2222222222222222,
             "#7201a8"
            ],
            [
             0.3333333333333333,
             "#9c179e"
            ],
            [
             0.4444444444444444,
             "#bd3786"
            ],
            [
             0.5555555555555556,
             "#d8576b"
            ],
            [
             0.6666666666666666,
             "#ed7953"
            ],
            [
             0.7777777777777778,
             "#fb9f3a"
            ],
            [
             0.8888888888888888,
             "#fdca26"
            ],
            [
             1,
             "#f0f921"
            ]
           ],
           "sequentialminus": [
            [
             0,
             "#0d0887"
            ],
            [
             0.1111111111111111,
             "#46039f"
            ],
            [
             0.2222222222222222,
             "#7201a8"
            ],
            [
             0.3333333333333333,
             "#9c179e"
            ],
            [
             0.4444444444444444,
             "#bd3786"
            ],
            [
             0.5555555555555556,
             "#d8576b"
            ],
            [
             0.6666666666666666,
             "#ed7953"
            ],
            [
             0.7777777777777778,
             "#fb9f3a"
            ],
            [
             0.8888888888888888,
             "#fdca26"
            ],
            [
             1,
             "#f0f921"
            ]
           ]
          },
          "colorway": [
           "#636efa",
           "#EF553B",
           "#00cc96",
           "#ab63fa",
           "#FFA15A",
           "#19d3f3",
           "#FF6692",
           "#B6E880",
           "#FF97FF",
           "#FECB52"
          ],
          "font": {
           "color": "#2a3f5f"
          },
          "geo": {
           "bgcolor": "white",
           "lakecolor": "white",
           "landcolor": "#E5ECF6",
           "showlakes": true,
           "showland": true,
           "subunitcolor": "white"
          },
          "hoverlabel": {
           "align": "left"
          },
          "hovermode": "closest",
          "mapbox": {
           "style": "light"
          },
          "paper_bgcolor": "white",
          "plot_bgcolor": "#E5ECF6",
          "polar": {
           "angularaxis": {
            "gridcolor": "white",
            "linecolor": "white",
            "ticks": ""
           },
           "bgcolor": "#E5ECF6",
           "radialaxis": {
            "gridcolor": "white",
            "linecolor": "white",
            "ticks": ""
           }
          },
          "scene": {
           "xaxis": {
            "backgroundcolor": "#E5ECF6",
            "gridcolor": "white",
            "gridwidth": 2,
            "linecolor": "white",
            "showbackground": true,
            "ticks": "",
            "zerolinecolor": "white"
           },
           "yaxis": {
            "backgroundcolor": "#E5ECF6",
            "gridcolor": "white",
            "gridwidth": 2,
            "linecolor": "white",
            "showbackground": true,
            "ticks": "",
            "zerolinecolor": "white"
           },
           "zaxis": {
            "backgroundcolor": "#E5ECF6",
            "gridcolor": "white",
            "gridwidth": 2,
            "linecolor": "white",
            "showbackground": true,
            "ticks": "",
            "zerolinecolor": "white"
           }
          },
          "shapedefaults": {
           "line": {
            "color": "#2a3f5f"
           }
          },
          "ternary": {
           "aaxis": {
            "gridcolor": "white",
            "linecolor": "white",
            "ticks": ""
           },
           "baxis": {
            "gridcolor": "white",
            "linecolor": "white",
            "ticks": ""
           },
           "bgcolor": "#E5ECF6",
           "caxis": {
            "gridcolor": "white",
            "linecolor": "white",
            "ticks": ""
           }
          },
          "title": {
           "x": 0.05
          },
          "xaxis": {
           "automargin": true,
           "gridcolor": "white",
           "linecolor": "white",
           "ticks": "",
           "title": {
            "standoff": 15
           },
           "zerolinecolor": "white",
           "zerolinewidth": 2
          },
          "yaxis": {
           "automargin": true,
           "gridcolor": "white",
           "linecolor": "white",
           "ticks": "",
           "title": {
            "standoff": 15
           },
           "zerolinecolor": "white",
           "zerolinewidth": 2
          }
         }
        },
        "title": {
         "text": "μ, θ, and σ versus delivery start time"
        },
        "xaxis": {
         "anchor": "y",
         "domain": [
          0,
          1
         ],
         "title": {
          "text": "delivery start time"
         }
        },
        "yaxis": {
         "anchor": "x",
         "domain": [
          0,
          1
         ],
         "title": {
          "text": "value"
         }
        }
       }
      }
     },
     "metadata": {},
     "output_type": "display_data"
    }
   ],
   "source": [
    "price_generator_DA.param_plot(\"spring\")"
   ]
  },
  {
   "cell_type": "code",
   "execution_count": 4,
   "metadata": {},
   "outputs": [
    {
     "name": "stderr",
     "output_type": "stream",
     "text": [
      "/Users/rickvanvoorbergen/Mijn Drive/Studie/Masters/Thesis/battery_intraday_trading/src/price_modelling/price_path_generator.py:191: UserWarning:\n",
      "\n",
      "This figure includes Axes that are not compatible with tight_layout, so results might be incorrect.\n",
      "\n"
     ]
    },
    {
     "data": {
      "image/png": "[encoded data removed]",
      "text/plain": [
       "<Figure size 1600x1400 with 5 Axes>"
      ]
     },
     "metadata": {},
     "output_type": "display_data"
    }
   ],
   "source": [
    "price_generator_DA.cor_heatmaps()"
   ]
  },
  {
   "cell_type": "markdown",
   "metadata": {},
   "source": [
    "Setup Battery"
   ]
  },
  {
   "cell_type": "code",
   "execution_count": 6,
   "metadata": {},
   "outputs": [],
   "source": [
    "# read config.yml\n",
    "with open(\"config.yml\", \"r\") as f:\n",
    "    config = yaml.safe_load(f)  \n",
    "\n",
    "battery = Battery(config)"
   ]
  },
  {
   "cell_type": "markdown",
   "metadata": {},
   "source": [
    "Create test price path array"
   ]
  },
  {
   "cell_type": "code",
   "execution_count": 7,
   "metadata": {},
   "outputs": [
    {
     "ename": "TypeError",
     "evalue": "IDPriceSimulator.generate_price_paths() missing 1 required positional argument: 'df_DA_prices'",
     "output_type": "error",
     "traceback": [
      "\u001b[31m---------------------------------------------------------------------------\u001b[39m",
      "\u001b[31mTypeError\u001b[39m                                 Traceback (most recent call last)",
      "\u001b[36mCell\u001b[39m\u001b[36m \u001b[39m\u001b[32mIn[7]\u001b[39m\u001b[32m, line 1\u001b[39m\n\u001b[32m----> \u001b[39m\u001b[32m1\u001b[39m price_path_array, P = \u001b[43mprice_generator_DA\u001b[49m\u001b[43m.\u001b[49m\u001b[43mgenerate_price_paths\u001b[49m\u001b[43m(\u001b[49m\u001b[43mseason\u001b[49m\u001b[43m=\u001b[49m\u001b[33;43m\"\u001b[39;49m\u001b[33;43mspring\u001b[39;49m\u001b[33;43m\"\u001b[39;49m\u001b[43m,\u001b[49m\u001b[43m \u001b[49m\u001b[43mN_paths\u001b[49m\u001b[43m=\u001b[49m\u001b[32;43m1\u001b[39;49m\u001b[43m)\u001b[49m\n\u001b[32m      2\u001b[39m price_path = price_path_array[\u001b[32m0\u001b[39m, :, :]\n",
      "\u001b[31mTypeError\u001b[39m: IDPriceSimulator.generate_price_paths() missing 1 required positional argument: 'df_DA_prices'"
     ]
    }
   ],
   "source": [
    "price_path_array, P = price_generator_DA.generate_price_paths(season=\"spring\", N_paths=1)\n",
    "price_path = price_path_array[0, :, :]"
   ]
  },
  {
   "cell_type": "code",
   "execution_count": 6,
   "metadata": {},
   "outputs": [],
   "source": [
    "price_path_array = np.ones((1,config[\"N_trading_timesteps\"],config[\"N_timesteps\"]))\n",
    "\n",
    "price_path_array[0,0,1:4] = 5\n",
    "price_path_array[0,0,26:29] = 0\n",
    "\n",
    "price_path_array[0,1,4:7] = -10\n",
    "price_path_array[0,1,23:26] = 2\n",
    "\n",
    "price_path_array[0,4,10:15] = -30\n",
    "# price_path_array[0,4,26:29] = 0\n",
    "\n",
    "# price_path_array[0,4,4:7] = -10\n",
    "# price_path_array[0,4,23:26] = 2\n",
    "\n",
    "\n",
    "\n"
   ]
  },
  {
   "cell_type": "code",
   "execution_count": 20,
   "metadata": {},
   "outputs": [
    {
     "data": {
      "application/vnd.plotly.v1+json": {
       "config": {
        "plotlyServerURL": "https://plot.ly"
       },
       "data": [
        {
         "line": {
          "dash": "solid",
          "width": 2
         },
         "mode": "lines",
         "name": "Path 0",
         "showlegend": true,
         "type": "scatter",
         "y": {
          "bdata": "KVyPwvXoVUApXI/C9ehVQClcj8L16FVAKVyPwvXoVUCuR+F6FE5VQK5H4XoUTlVArkfhehROVUCuR+F6FE5VQD0K16Nw/VRAPQrXo3D9VEA9CtejcP1UQD0K16Nw/VRAw/UoXI8CVkDD9ShcjwJWQMP1KFyPAlZAw/UoXI8CVkD2KFyPwpVbQPYoXI/ClVtA9ihcj8KVW0D2KFyPwpVbQGZmZmZmBl5AZmZmZmYGXkBmZmZmZgZeQGZmZmZmBl5AH4XrUbiOWUAfhetRuI5ZQB+F61G4jllAH4XrUbiOWUDsUbgehVtVQOxRuB6FW1VA7FG4HoVbVUDsUbgehVtVQOF6FK5HIVJA4XoUrkchUkDhehSuRyFSQOF6FK5HIVJAexSuR+FKUUB7FK5H4UpRQHsUrkfhSlFAexSuR+FKUUDNzMzMzIxOQM3MzMzMjE5AzczMzMyMTkDNzMzMzIxOQAAAAAAAoEtAAAAAAACgS0AAAAAAAKBLQAAAAAAAoEtAw/UoXI+iS0DD9Shcj6JLQMP1KFyPoktAw/UoXI+iS0AK16NwPWpQQArXo3A9alBACtejcD1qUEAK16NwPWpQQOF6FK5HIVJA4XoUrkchUkDhehSuRyFSQOF6FK5HIVJAMzMzMzNzVUAzMzMzM3NVQDMzMzMzc1VAMzMzMzNzVUBSuB6F65FZQFK4HoXrkVlAUrgeheuRWUBSuB6F65FZQJqZmZmZQWBAmpmZmZlBYECamZmZmUFgQJqZmZmZQWBAUrgehesJYkBSuB6F6wliQFK4HoXrCWJAUrgehesJYkAAAAAAAABfQAAAAAAAAF9AAAAAAAAAX0AAAAAAAABfQPYoXI/CBVlA9ihcj8IFWUD2KFyPwgVZQPYoXI/CBVlAUrgehesxVkBSuB6F6zFWQFK4HoXrMVZAUrgehesxVkCuR+F6FA5SQK5H4XoUDlJArkfhehQOUkCuR+F6FA5SQIXrUbgexUxAhetRuB7FTECF61G4HsVMQIXrUbgexUxA",
          "dtype": "f8"
         }
        },
        {
         "line": {
          "dash": "solid",
          "width": 2
         },
         "mode": "lines",
         "name": "Path 1",
         "showlegend": true,
         "type": "scatter",
         "y": {
          "bdata": "e1brYoBgV0ACvkqKBvZXQGrB4Fjz4lJA3Y3TaDT8U0BOJ4Ah/RpVQBTPVUGtJVVAuGapqhtFVUBqC7Fa7kBWQJHOVs9C5lRACDnXrl1jVkBNuebQpXxVQKaH2wF4llRAKgv6uxxzVEA1MFU8K+VWQAbDeoa/IVdAm+msk+L9VUCQeDd9GmFdQBBegZCy/FpAoJFFckEqXkCHLIAUwZlbQDd9ld2c4V1A/PK3K3jAXkB0f8Fj7K1eQC+KcUR8mlxAglY/N4zaWUCh8ilVeLdVQNTGhs4NnFZAZVgjyIPSV0DhgQrt5CdUQJ3xOSE9Q1JAwKVii1BbUkBdE8P1ix1VQI5gcxKG+ExAoGabv2bAUECNsdKPMyRQQNpcmhR9FFJA0gbhaC1nTUBCb6/8uL1PQLiQJS/kWE5AcG71LldWTEAkxpc2F0RNQJDiftvthE1AA4/ufLuMUEAQYBr+k85RQKrvv75KGkxAb74DiEaYTEBtRV9RmDNOQBMOdojji0hAy3bqx/skR0BrywI2xWJGQDrNboSNi1FArnIJFa1UT0DNpwxKZw9RQBgZBRwXyFBAIJ9c7gqXTkCWbmeImntPQKMBVTO3YUxAk09dBRtIU0AyozO7ukFRQM2W5t6ycFRApzu/vx0AVUAik2L+Tj9WQJFzXv+e1FdA8PxOz3dYV0CSrNNc9a1bQKue1h7NEFpAtlyOGch3WkAw3R8nivhYQGhMCe4FB2FAfEmy+UYnYUBPI7WOEY5gQPvoiIkXh2FAvtYYd252Y0DVFaa/HbliQA6vCS6KBmFAT7vIWEFdYUB6gQ8ObCVgQPxnISSQfV5AtsgX9Au4X0AgC7vdq0FgQONXAhKO8FhALj1G0GQMXECZmQYiBzFbQI7qvuKOB1tAtUKqO5g5WEAva1WlnmZXQA7d3bOT9lZAFv4A0eHaVUDCZzhXfCVQQL4tOtR50FFAXlBkR2NZUUDcBxg43iNRQEz7eJQQoU5AUSsTKg8PUUAGNfW0xmhPQCEzdWI9ok5A",
          "dtype": "f8"
         }
        },
        {
         "line": {
          "dash": "solid",
          "width": 2
         },
         "mode": "lines",
         "name": "Path 2",
         "showlegend": true,
         "type": "scatter",
         "y": {
          "bdata": "KCYt2/TYVkCFh7nxZn5VQJhyVeBw+lNAhWOzep/WUkCgxs7wBoZUQDo05Otid1RA7yixOcaLVUCQfYWAvz1VQHIRfDmAy1NA1o7AH6HgVECD9mHssyJUQMw3eHHbnFFAbBw9lMtXUUBnSdpeQTZTQI8x7apMUlVA6djflYLzVEDM5IQfYSNdQBDGRps581hAB7jGzVKjWkAnhWm7BP9cQB0KWAa4RGFAlmsk+8Q+YUAnGnn4Ey9fQIaXDmb8QF1A7T6676sBWUCSE9mhRGVYQHyD6XKbJFtAlGpz27iWWEDXEdo9kW9WQKz3s8Amh1NA0V4BvaNnU0BDWkBvs+dVQMtMWj+C7U9AVm4s1OiuUEDTI9p68cZSQJEOTWPltFJAR31hQyVtTkAOHzh8+PtTQLQUpfzZG1BAHbVYVd1/R0A+ZeGNDjNKQFOPqOVjYVBAPnEsTOyDUkAxk0P3jc1UQE4aA8heYFBAqZo0ePhQT0D6AdtyQb5RQDilNyRL/05A6UNnR1kgR0DsiO95jtBFQAJug/qf/VNAZhSuDE4cUkBKegck9FhRQIZEx0PkPk9AsZT9DzYhTUBirHbVR7JMQB8WxcSZjkZADlBHMPvUU0BmZCSw5TdRQL6mjsLzgFVA2qXcIshYU0C6J/G3sSBWQBYZoSKMI1hAQiQzHUixV0DM3Enlj3NaQKCK460SLFlA+tNx9PXJWECapX9xewRZQLAtpwUNq2BAlux8nuFaYECkTzLT1gVhQGopV15RM1tA8OvwAnL1YEDWqx6LO5FfQHYVR/zYClpApvMB7keKW0AhrUsIb3VbQFIEMqnanWBADFlJ0iNPYEBAEIOm5pNgQElBAm2qa1dAdj0PGsgXWEDE8LlxQ8JZQAJW6E8kk1pA8is3ErWpWUAv4T2cJPpVQGi8/j6no1RALDh1S0diVkB4VoFGr0BQQKrmI4rTdlJA0XHfVSXIUEBi7xTuBv5PQAgIz7nv+1BAAjBzQD6vU0BQjxsCRD1QQH7mEwAB4ExA",
          "dtype": "f8"
         }
        },
        {
         "line": {
          "dash": "solid",
          "width": 2
         },
         "mode": "lines",
         "name": "Path 3",
         "showlegend": true,
         "type": "scatter",
         "y": {
          "bdata": "9YQY8fftVkDWSrC69mFVQIIEgqqgtVRAZefuCX14UkDJ0Cj0NTdTQIVCX04qelRASf+L33uFVUCKDbKnmedTQKWYhs5e2VJADjocP3TXVEClYwNGVnBTQCfMymU2CVBApyJnWR/YUUBANEXH0c1RQAu1isW5fFRAGob4+dPqU0CYYljDZvJaQLtnedbeGFlADY4eT+dtWUAJ4Ch1kq9cQIr+lRg9jWJAJ+QHgXsaYkAFJS0jbzlgQMHYMoU0Ll1AqW6FxcQrVkDzakkxXJBWQBs54YqtMFlA6L73sH96WUBQOrQDVS9UQGq4Q8trOFNALtLXl2aVVEDkglbkkKRWQKCwnKWmmFNAU0H4egp1UECEcQw5VERSQARKvOJoM1NAPqf+j3SBUECOCI8RfvlTQGgMyL1OJlJAhGmrKEe8R0CgGP/N2rtIQAgC1fmocUtAWRxN5+lTUUD7cExPfr1UQLbKUHY4ok1AtkY65MBPRkDJYYXC4RFRQDK2W5+ACEtA3pQVqHxeQkDYIBrLPYtDQESOlJGtYE9ArJ6qDYD/UECqTRB509hPQBI6YezjOU9A3n0X4U+NS0Dm7Vkoz09IQE0CyEdqWkZAjvxc6hpMUUCcvdEKiIdQQNF+uOnIqFZA/JAPjEeoUEAqD+WHBUpUQEUPUeFLT1hAyq+bePb+V0DWSWu3SPpbQIe9RiTYi1pAKRSb8D8sWUBapEtiTGBYQHXDeYY9wWBAvCdyjvOXXkDTRrwhG3BgQPV8LfqbhV9AU7zH4F3KYkAZSu7ncftfQJIJrBZz5lZA8q4NeUvGWkBd/zKs0V9bQKQGFg/pNF9AJztFWABKXkCCJvskkDdgQGoNr6Zpg1hAZfntJpbEW0AG1M7RzChbQDX4oD+6AVtAtp1OD2OaWUDft1k2fcdVQPpHmnBNslRALy5rZzmBVkDZFkdWA49SQGT+hqQ17k9AqtM3+v2nUEA4x0rbicpTQMYAyiG5J1NAm99/e1zgU0BziFA5RPZOQP0GF4Ls5k1A",
          "dtype": "f8"
         }
        },
        {
         "line": {
          "dash": "solid",
          "width": 2
         },
         "mode": "lines",
         "name": "Path 4",
         "showlegend": true,
         "type": "scatter",
         "y": {
          "bdata": "5gG9QvGhVkBIpXEZm8VUQC6kroBAm1VASVsfJuJqUUAuPqEWzPtRQDZolVPSflRASu49/xQ5VUDUCiXkWh9TQMLakq677lFA0Kia3mCMVEDFpKwd+atSQFJV2jIt2EtANYjZIhcBUUDhEzP7f0tQQJUvfvofFFNA0yd+wiSSU0DaTNwyMZBaQBqHblbwy1hA3GCI3JeeWUDFWjhv185gQLC8eq8O5mFAY+CaAiM7YkAcCv2LbmJhQI1+Oc4qel5A5wu7gM+cV0AwoRg857xXQLI6M1EysFhAKtxMj9NPWUDspWgu7otUQPGCJXpSDlRAZZiEPkv6U0BVA8c0vj1WQOWlXxTaQ1JAKm5rbMHAUUA69dx20H9RQA+b1QCajFFACuN2CqZwSkAu7Pxq/01SQO/6VA+F2k1A/Vuao5mmQ0DSUpRHFPhEQJnmog9h6kdAzDEJjjAiT0AiphAd9FBTQE86K+X/m0dAUc+x3g4CQ0AlYAuhLyBQQGcG3TCjdkdAdv/To5igM0CsDdnWdaY+QHzHHnks0k5AdnFuTSFUUEAtaCzmN2hLQBZePAtrmEpAhMzru/9+TECDsruE7stGQCqMTrvMTUNAFmjKq7oxTkAYZOysIV5MQFZWAzX9fVZAfi5APe8jTUBBTB8FDWZUQLDblE1CHlhAIHEM72OEVkDsqOuWME5dQGNUuXR7IlxA8upXuHH9V0CegUhwbkVbQOEXxJw2smBAD3yinxUrXUAiXnfObaFhQMlKYWHP9V9AuddOrUmLY0AI46Z+pAVhQDaRG6l9BlpAyp395V8jXkD9mNWo4Z9fQNVYomV92mBAaJKndGApXkDY84oBp+BfQK1QEXDwcVVAnGA0hsO4W0Dy0Wds/EZZQKUyJ4DBfVhAMrGT7LV/V0AqrFXuejxTQJ1LnYIsVVNAumWt7DuMVUAA0oLD/iZTQKs+RnLlY05Amh579uwPTEDsahL2nytVQFqccFGZSVFAkCyD+RHQUkDjAf5T3h1LQLbmkW6Nm05A",
          "dtype": "f8"
         }
        }
       ],
       "layout": {
        "height": 400,
        "showlegend": true,
        "template": {
         "data": {
          "bar": [
           {
            "error_x": {
             "color": "#2a3f5f"
            },
            "error_y": {
             "color": "#2a3f5f"
            },
            "marker": {
             "line": {
              "color": "#E5ECF6",
              "width": 0.5
             },
             "pattern": {
              "fillmode": "overlay",
              "size": 10,
              "solidity": 0.2
             }
            },
            "type": "bar"
           }
          ],
          "barpolar": [
           {
            "marker": {
             "line": {
              "color": "#E5ECF6",
              "width": 0.5
             },
             "pattern": {
              "fillmode": "overlay",
              "size": 10,
              "solidity": 0.2
             }
            },
            "type": "barpolar"
           }
          ],
          "carpet": [
           {
            "aaxis": {
             "endlinecolor": "#2a3f5f",
             "gridcolor": "white",
             "linecolor": "white",
             "minorgridcolor": "white",
             "startlinecolor": "#2a3f5f"
            },
            "baxis": {
             "endlinecolor": "#2a3f5f",
             "gridcolor": "white",
             "linecolor": "white",
             "minorgridcolor": "white",
             "startlinecolor": "#2a3f5f"
            },
            "type": "carpet"
           }
          ],
          "choropleth": [
           {
            "colorbar": {
             "outlinewidth": 0,
             "ticks": ""
            },
            "type": "choropleth"
           }
          ],
          "contour": [
           {
            "colorbar": {
             "outlinewidth": 0,
             "ticks": ""
            },
            "colorscale": [
             [
              0,
              "#0d0887"
             ],
             [
              0.1111111111111111,
              "#46039f"
             ],
             [
              0.2222222222222222,
              "#7201a8"
             ],
             [
              0.3333333333333333,
              "#9c179e"
             ],
             [
              0.4444444444444444,
              "#bd3786"
             ],
             [
              0.5555555555555556,
              "#d8576b"
             ],
             [
              0.6666666666666666,
              "#ed7953"
             ],
             [
              0.7777777777777778,
              "#fb9f3a"
             ],
             [
              0.8888888888888888,
              "#fdca26"
             ],
             [
              1,
              "#f0f921"
             ]
            ],
            "type": "contour"
           }
          ],
          "contourcarpet": [
           {
            "colorbar": {
             "outlinewidth": 0,
             "ticks": ""
            },
            "type": "contourcarpet"
           }
          ],
          "heatmap": [
           {
            "colorbar": {
             "outlinewidth": 0,
             "ticks": ""
            },
            "colorscale": [
             [
              0,
              "#0d0887"
             ],
             [
              0.1111111111111111,
              "#46039f"
             ],
             [
              0.2222222222222222,
              "#7201a8"
             ],
             [
              0.3333333333333333,
              "#9c179e"
             ],
             [
              0.4444444444444444,
              "#bd3786"
             ],
             [
              0.5555555555555556,
              "#d8576b"
             ],
             [
              0.6666666666666666,
              "#ed7953"
             ],
             [
              0.7777777777777778,
              "#fb9f3a"
             ],
             [
              0.8888888888888888,
              "#fdca26"
             ],
             [
              1,
              "#f0f921"
             ]
            ],
            "type": "heatmap"
           }
          ],
          "histogram": [
           {
            "marker": {
             "pattern": {
              "fillmode": "overlay",
              "size": 10,
              "solidity": 0.2
             }
            },
            "type": "histogram"
           }
          ],
          "histogram2d": [
           {
            "colorbar": {
             "outlinewidth": 0,
             "ticks": ""
            },
            "colorscale": [
             [
              0,
              "#0d0887"
             ],
             [
              0.1111111111111111,
              "#46039f"
             ],
             [
              0.2222222222222222,
              "#7201a8"
             ],
             [
              0.3333333333333333,
              "#9c179e"
             ],
             [
              0.4444444444444444,
              "#bd3786"
             ],
             [
              0.5555555555555556,
              "#d8576b"
             ],
             [
              0.6666666666666666,
              "#ed7953"
             ],
             [
              0.7777777777777778,
              "#fb9f3a"
             ],
             [
              0.8888888888888888,
              "#fdca26"
             ],
             [
              1,
              "#f0f921"
             ]
            ],
            "type": "histogram2d"
           }
          ],
          "histogram2dcontour": [
           {
            "colorbar": {
             "outlinewidth": 0,
             "ticks": ""
            },
            "colorscale": [
             [
              0,
              "#0d0887"
             ],
             [
              0.1111111111111111,
              "#46039f"
             ],
             [
              0.2222222222222222,
              "#7201a8"
             ],
             [
              0.3333333333333333,
              "#9c179e"
             ],
             [
              0.4444444444444444,
              "#bd3786"
             ],
             [
              0.5555555555555556,
              "#d8576b"
             ],
             [
              0.6666666666666666,
              "#ed7953"
             ],
             [
              0.7777777777777778,
              "#fb9f3a"
             ],
             [
              0.8888888888888888,
              "#fdca26"
             ],
             [
              1,
              "#f0f921"
             ]
            ],
            "type": "histogram2dcontour"
           }
          ],
          "mesh3d": [
           {
            "colorbar": {
             "outlinewidth": 0,
             "ticks": ""
            },
            "type": "mesh3d"
           }
          ],
          "parcoords": [
           {
            "line": {
             "colorbar": {
              "outlinewidth": 0,
              "ticks": ""
             }
            },
            "type": "parcoords"
           }
          ],
          "pie": [
           {
            "automargin": true,
            "type": "pie"
           }
          ],
          "scatter": [
           {
            "fillpattern": {
             "fillmode": "overlay",
             "size": 10,
             "solidity": 0.2
            },
            "type": "scatter"
           }
          ],
          "scatter3d": [
           {
            "line": {
             "colorbar": {
              "outlinewidth": 0,
              "ticks": ""
             }
            },
            "marker": {
             "colorbar": {
              "outlinewidth": 0,
              "ticks": ""
             }
            },
            "type": "scatter3d"
           }
          ],
          "scattercarpet": [
           {
            "marker": {
             "colorbar": {
              "outlinewidth": 0,
              "ticks": ""
             }
            },
            "type": "scattercarpet"
           }
          ],
          "scattergeo": [
           {
            "marker": {
             "colorbar": {
              "outlinewidth": 0,
              "ticks": ""
             }
            },
            "type": "scattergeo"
           }
          ],
          "scattergl": [
           {
            "marker": {
             "colorbar": {
              "outlinewidth": 0,
              "ticks": ""
             }
            },
            "type": "scattergl"
           }
          ],
          "scattermap": [
           {
            "marker": {
             "colorbar": {
              "outlinewidth": 0,
              "ticks": ""
             }
            },
            "type": "scattermap"
           }
          ],
          "scattermapbox": [
           {
            "marker": {
             "colorbar": {
              "outlinewidth": 0,
              "ticks": ""
             }
            },
            "type": "scattermapbox"
           }
          ],
          "scatterpolar": [
           {
            "marker": {
             "colorbar": {
              "outlinewidth": 0,
              "ticks": ""
             }
            },
            "type": "scatterpolar"
           }
          ],
          "scatterpolargl": [
           {
            "marker": {
             "colorbar": {
              "outlinewidth": 0,
              "ticks": ""
             }
            },
            "type": "scatterpolargl"
           }
          ],
          "scatterternary": [
           {
            "marker": {
             "colorbar": {
              "outlinewidth": 0,
              "ticks": ""
             }
            },
            "type": "scatterternary"
           }
          ],
          "surface": [
           {
            "colorbar": {
             "outlinewidth": 0,
             "ticks": ""
            },
            "colorscale": [
             [
              0,
              "#0d0887"
             ],
             [
              0.1111111111111111,
              "#46039f"
             ],
             [
              0.2222222222222222,
              "#7201a8"
             ],
             [
              0.3333333333333333,
              "#9c179e"
             ],
             [
              0.4444444444444444,
              "#bd3786"
             ],
             [
              0.5555555555555556,
              "#d8576b"
             ],
             [
              0.6666666666666666,
              "#ed7953"
             ],
             [
              0.7777777777777778,
              "#fb9f3a"
             ],
             [
              0.8888888888888888,
              "#fdca26"
             ],
             [
              1,
              "#f0f921"
             ]
            ],
            "type": "surface"
           }
          ],
          "table": [
           {
            "cells": {
             "fill": {
              "color": "#EBF0F8"
             },
             "line": {
              "color": "white"
             }
            },
            "header": {
             "fill": {
              "color": "#C8D4E3"
             },
             "line": {
              "color": "white"
             }
            },
            "type": "table"
           }
          ]
         },
         "layout": {
          "annotationdefaults": {
           "arrowcolor": "#2a3f5f",
           "arrowhead": 0,
           "arrowwidth": 1
          },
          "autotypenumbers": "strict",
          "coloraxis": {
           "colorbar": {
            "outlinewidth": 0,
            "ticks": ""
           }
          },
          "colorscale": {
           "diverging": [
            [
             0,
             "#8e0152"
            ],
            [
             0.1,
             "#c51b7d"
            ],
            [
             0.2,
             "#de77ae"
            ],
            [
             0.3,
             "#f1b6da"
            ],
            [
             0.4,
             "#fde0ef"
            ],
            [
             0.5,
             "#f7f7f7"
            ],
            [
             0.6,
             "#e6f5d0"
            ],
            [
             0.7,
             "#b8e186"
            ],
            [
             0.8,
             "#7fbc41"
            ],
            [
             0.9,
             "#4d9221"
            ],
            [
             1,
             "#276419"
            ]
           ],
           "sequential": [
            [
             0,
             "#0d0887"
            ],
            [
             0.1111111111111111,
             "#46039f"
            ],
            [
             0.2222222222222222,
             "#7201a8"
            ],
            [
             0.3333333333333333,
             "#9c179e"
            ],
            [
             0.4444444444444444,
             "#bd3786"
            ],
            [
             0.5555555555555556,
             "#d8576b"
            ],
            [
             0.6666666666666666,
             "#ed7953"
            ],
            [
             0.7777777777777778,
             "#fb9f3a"
            ],
            [
             0.8888888888888888,
             "#fdca26"
            ],
            [
             1,
             "#f0f921"
            ]
           ],
           "sequentialminus": [
            [
             0,
             "#0d0887"
            ],
            [
             0.1111111111111111,
             "#46039f"
            ],
            [
             0.2222222222222222,
             "#7201a8"
            ],
            [
             0.3333333333333333,
             "#9c179e"
            ],
            [
             0.4444444444444444,
             "#bd3786"
            ],
            [
             0.5555555555555556,
             "#d8576b"
            ],
            [
             0.6666666666666666,
             "#ed7953"
            ],
            [
             0.7777777777777778,
             "#fb9f3a"
            ],
            [
             0.8888888888888888,
             "#fdca26"
            ],
            [
             1,
             "#f0f921"
            ]
           ]
          },
          "colorway": [
           "#636efa",
           "#EF553B",
           "#00cc96",
           "#ab63fa",
           "#FFA15A",
           "#19d3f3",
           "#FF6692",
           "#B6E880",
           "#FF97FF",
           "#FECB52"
          ],
          "font": {
           "color": "#2a3f5f"
          },
          "geo": {
           "bgcolor": "white",
           "lakecolor": "white",
           "landcolor": "#E5ECF6",
           "showlakes": true,
           "showland": true,
           "subunitcolor": "white"
          },
          "hoverlabel": {
           "align": "left"
          },
          "hovermode": "closest",
          "mapbox": {
           "style": "light"
          },
          "paper_bgcolor": "white",
          "plot_bgcolor": "#E5ECF6",
          "polar": {
           "angularaxis": {
            "gridcolor": "white",
            "linecolor": "white",
            "ticks": ""
           },
           "bgcolor": "#E5ECF6",
           "radialaxis": {
            "gridcolor": "white",
            "linecolor": "white",
            "ticks": ""
           }
          },
          "scene": {
           "xaxis": {
            "backgroundcolor": "#E5ECF6",
            "gridcolor": "white",
            "gridwidth": 2,
            "linecolor": "white",
            "showbackground": true,
            "ticks": "",
            "zerolinecolor": "white"
           },
           "yaxis": {
            "backgroundcolor": "#E5ECF6",
            "gridcolor": "white",
            "gridwidth": 2,
            "linecolor": "white",
            "showbackground": true,
            "ticks": "",
            "zerolinecolor": "white"
           },
           "zaxis": {
            "backgroundcolor": "#E5ECF6",
            "gridcolor": "white",
            "gridwidth": 2,
            "linecolor": "white",
            "showbackground": true,
            "ticks": "",
            "zerolinecolor": "white"
           }
          },
          "shapedefaults": {
           "line": {
            "color": "#2a3f5f"
           }
          },
          "ternary": {
           "aaxis": {
            "gridcolor": "white",
            "linecolor": "white",
            "ticks": ""
           },
           "baxis": {
            "gridcolor": "white",
            "linecolor": "white",
            "ticks": ""
           },
           "bgcolor": "#E5ECF6",
           "caxis": {
            "gridcolor": "white",
            "linecolor": "white",
            "ticks": ""
           }
          },
          "title": {
           "x": 0.05
          },
          "xaxis": {
           "automargin": true,
           "gridcolor": "white",
           "linecolor": "white",
           "ticks": "",
           "title": {
            "standoff": 15
           },
           "zerolinecolor": "white",
           "zerolinewidth": 2
          },
          "yaxis": {
           "automargin": true,
           "gridcolor": "white",
           "linecolor": "white",
           "ticks": "",
           "title": {
            "standoff": 15
           },
           "zerolinecolor": "white",
           "zerolinewidth": 2
          }
         }
        },
        "title": {
         "text": "Price Paths"
        },
        "width": 800,
        "xaxis": {
         "title": {
          "text": "Timestep"
         }
        },
        "yaxis": {
         "title": {
          "text": "Price"
         }
        }
       }
      }
     },
     "metadata": {},
     "output_type": "display_data"
    }
   ],
   "source": [
    "import plotly.graph_objects as go\n",
    "\n",
    "# Plot all price paths in price_path_array\n",
    "fig = go.Figure()\n",
    "n_trading_timesteps = price_path_array.shape[1]\n",
    "n_timesteps = price_path_array.shape[2]\n",
    "\n",
    "for i in range(5):\n",
    "    # Add a label for every path, named \"Path i\"\n",
    "    fig.add_trace(\n",
    "        go.Scatter(\n",
    "            y=price_path_array[0, i, :],  # Plot the first trading timestep for the label\n",
    "            mode=\"lines\",\n",
    "            name=f\"Path {i}\",\n",
    "            showlegend=True,\n",
    "            line=dict(width=2, dash=\"solid\")\n",
    "        )\n",
    "    )\n",
    "\n",
    "fig.update_layout(\n",
    "    title=\"Price Paths\",\n",
    "    xaxis_title=\"Timestep\",\n",
    "    yaxis_title=\"Price\",\n",
    "    showlegend=True,  # Always show legend\n",
    "    height=400,\n",
    "    width=800\n",
    ")\n",
    "fig.show()\n",
    "\n"
   ]
  },
  {
   "cell_type": "code",
   "execution_count": 21,
   "metadata": {},
   "outputs": [],
   "source": [
    "price_path = price_path_array[0,:,:]\n",
    "intrinsic_strategy = RollingIntrinsicStrategy(battery, price_path, config)"
   ]
  },
  {
   "cell_type": "code",
   "execution_count": 22,
   "metadata": {},
   "outputs": [],
   "source": [
    "power_schedules , power_incremental_schedules, soc_schedules, price_path, results = intrinsic_strategy.run()"
   ]
  },
  {
   "cell_type": "code",
   "execution_count": 23,
   "metadata": {},
   "outputs": [],
   "source": [
    "eps = 1e-8\n",
    "\n",
    "# Test if schedules are within bounds\n",
    "for power_schedule in power_schedules:\n",
    "    assert np.all(np.abs(power_schedule) <= battery.capacity)\n",
    "\n",
    "for soc_schedule in soc_schedules:\n",
    "    assert np.all(soc_schedule >= -eps) and np.all(soc_schedule <= 1+eps)\n",
    "\n",
    "# Test if results are equal to power_schedule multiplied by price_path\n",
    "for t in range(2, len(results) - 1):\n",
    "    # print(t)\n",
    "    assert np.abs(results[t]-results[t-1] - np.sum((power_schedules[t] - power_schedules[t-1]) * price_path[t,:])) < eps\n",
    "\n",
    "# Test if commited power schedules are within bounds\n",
    "for t in range(2, len(results) - 1):\n",
    "    assert np.all(np.abs(power_schedules[t]) <= battery.capacity + eps)\n",
    "\n",
    "    \n",
    "\n",
    "\n",
    "# Test if the number of cycles is less than the maximum allowed\n",
    "# assert np.sum(np.abs(power_schedules[-1]))/2 * battery.RTE <= battery.N_daily_cycles_max\n",
    "# # Lower bound on revenues\n",
    "# costs = np.sum(power_schedules * price_path[0,:,:], axis=1)\n",
    "# # assert np.all(costs >= 0)\n",
    "# costs"
   ]
  },
  {
   "cell_type": "code",
   "execution_count": 24,
   "metadata": {},
   "outputs": [
    {
     "data": {
      "application/vnd.plotly.v1+json": {
       "config": {
        "plotlyServerURL": "https://plot.ly"
       },
       "data": [
        {
         "line": {
          "color": "#1f77b4"
         },
         "mode": "lines",
         "name": "SOC (t=0)",
         "showlegend": true,
         "type": "scatter",
         "x": [
          0,
          1,
          2,
          3,
          4,
          5,
          6,
          7,
          8,
          9,
          10,
          11,
          12,
          13,
          14,
          15,
          16,
          17,
          18,
          19,
          20,
          21,
          22,
          23,
          24,
          25,
          26,
          27,
          28,
          29,
          30,
          31,
          32,
          33,
          34,
          35,
          36,
          37,
          38,
          39,
          40,
          41,
          42,
          43,
          44,
          45,
          46,
          47,
          48,
          49,
          50,
          51,
          52,
          53,
          54,
          55,
          56,
          57,
          58,
          59,
          60,
          61,
          62,
          63,
          64,
          65,
          66,
          67,
          68,
          69,
          70,
          71,
          72,
          73,
          74,
          75,
          76,
          77,
          78,
          79,
          80,
          81,
          82,
          83,
          84,
          85,
          86,
          87,
          88,
          89,
          90,
          91,
          92,
          93,
          94,
          95,
          96
         ],
         "xaxis": "x",
         "y": {
          "bdata": "AAAAAAAA4D8AAAAAAADgPwAAAAAAAOA/AAAAAAAA4D8AAAAAAADgPwAAAAAAAOA/AAAAAAAA4D8AAAAAAADgPwAAAAAAAOA/AAAAAAAA4D8AAAAAAADgPwAAAAAAAOA/AAAAAAAA4D8AAAAAAADgPwAAAAAAAOA/AAAAAAAA4D8AAAAAAADgPwAAAAAAAOA/AAAAAAAA4D8AAAAAAADgPwAAAAAAAOA/AAAAAAAA0D8AAAAAAADQPwAAAAAAANA/AAAAAAAA0D8AAAAAAADQPwAAAAAAANA/AAAAAAAA0D8AAAAAAADQPwAAAAAAANA/AAAAAAAA0D8AAAAAAADQPwAAAAAAANA/AAAAAAAA0D8AAAAAAADQPwAAAAAAANA/AAAAAAAA0D8AAAAAAADQPwAAAAAAANA/AAAAAAAA0D8AAAAAAADQPwAAAAAAANA/AAAAAAAA0D8AAAAAAADQPwAAAAAAANA/zczMzMzM1D+amZmZmZnhP83MzMzMzOg/AAAAAAAA8D8AAAAAAADwPwAAAAAAAPA/AAAAAAAA8D8AAAAAAADwPwAAAAAAAPA/AAAAAAAA8D8AAAAAAADwPwAAAAAAAPA/AAAAAAAA8D8AAAAAAADwPwAAAAAAAPA/AAAAAAAA8D8AAAAAAADwPwAAAAAAAPA/AAAAAAAA8D8AAAAAAADwPwAAAAAAAPA/AAAAAAAA8D8AAAAAAADwPwAAAAAAAPA/AAAAAAAA8D8AAAAAAADwPwAAAAAAAPA/AAAAAAAA8D/FcRzHcRznPxTHcRzHcdw/YVVVVVVVxT8AAAAAAAAAAAAAAAAAAAAAAAAAAAAAAAAAAAAAAAAAAAAAAAAAAAAAAAAAAAAAAAAAAAAAAAAAAAAAAAAAAAAAAAAAAAAAAAAAAAAAAAAAAAAAAAAAAAAAAAAAAAAAAAAAAAAAAAAAAAAAAAAAAAAAAAAAAAAAAAAAAAAAAAAAAAAAAAAAAAAAAAAAAAAAAAAAAAAAAAAAAAAAAAAAAAAAAAAAAAAAAAA=",
          "dtype": "f8"
         },
         "yaxis": "y"
        },
        {
         "line": {
          "color": "#ff7f0e",
          "dash": "dot",
          "shape": "hv"
         },
         "mode": "lines",
         "name": "Price (t=0)",
         "showlegend": true,
         "type": "scatter",
         "x": [
          0,
          1,
          2,
          3,
          4,
          5,
          6,
          7,
          8,
          9,
          10,
          11,
          12,
          13,
          14,
          15,
          16,
          17,
          18,
          19,
          20,
          21,
          22,
          23,
          24,
          25,
          26,
          27,
          28,
          29,
          30,
          31,
          32,
          33,
          34,
          35,
          36,
          37,
          38,
          39,
          40,
          41,
          42,
          43,
          44,
          45,
          46,
          47,
          48,
          49,
          50,
          51,
          52,
          53,
          54,
          55,
          56,
          57,
          58,
          59,
          60,
          61,
          62,
          63,
          64,
          65,
          66,
          67,
          68,
          69,
          70,
          71,
          72,
          73,
          74,
          75,
          76,
          77,
          78,
          79,
          80,
          81,
          82,
          83,
          84,
          85,
          86,
          87,
          88,
          89,
          90,
          91,
          92,
          93,
          94,
          95
         ],
         "xaxis": "x",
         "y": {
          "bdata": "KVyPwvXoVUApXI/C9ehVQClcj8L16FVAKVyPwvXoVUCuR+F6FE5VQK5H4XoUTlVArkfhehROVUCuR+F6FE5VQD0K16Nw/VRAPQrXo3D9VEA9CtejcP1UQD0K16Nw/VRAw/UoXI8CVkDD9ShcjwJWQMP1KFyPAlZAw/UoXI8CVkD2KFyPwpVbQPYoXI/ClVtA9ihcj8KVW0D2KFyPwpVbQGZmZmZmBl5AZmZmZmYGXkBmZmZmZgZeQGZmZmZmBl5AH4XrUbiOWUAfhetRuI5ZQB+F61G4jllAH4XrUbiOWUDsUbgehVtVQOxRuB6FW1VA7FG4HoVbVUDsUbgehVtVQOF6FK5HIVJA4XoUrkchUkDhehSuRyFSQOF6FK5HIVJAexSuR+FKUUB7FK5H4UpRQHsUrkfhSlFAexSuR+FKUUDNzMzMzIxOQM3MzMzMjE5AzczMzMyMTkDNzMzMzIxOQAAAAAAAoEtAAAAAAACgS0AAAAAAAKBLQAAAAAAAoEtAw/UoXI+iS0DD9Shcj6JLQMP1KFyPoktAw/UoXI+iS0AK16NwPWpQQArXo3A9alBACtejcD1qUEAK16NwPWpQQOF6FK5HIVJA4XoUrkchUkDhehSuRyFSQOF6FK5HIVJAMzMzMzNzVUAzMzMzM3NVQDMzMzMzc1VAMzMzMzNzVUBSuB6F65FZQFK4HoXrkVlAUrgeheuRWUBSuB6F65FZQJqZmZmZQWBAmpmZmZlBYECamZmZmUFgQJqZmZmZQWBAUrgehesJYkBSuB6F6wliQFK4HoXrCWJAUrgehesJYkAAAAAAAABfQAAAAAAAAF9AAAAAAAAAX0AAAAAAAABfQPYoXI/CBVlA9ihcj8IFWUD2KFyPwgVZQPYoXI/CBVlAUrgehesxVkBSuB6F6zFWQFK4HoXrMVZAUrgehesxVkCuR+F6FA5SQK5H4XoUDlJArkfhehQOUkCuR+F6FA5SQIXrUbgexUxAhetRuB7FTECF61G4HsVMQIXrUbgexUxA",
          "dtype": "f8"
         },
         "yaxis": "y2"
        },
        {
         "line": {
          "color": "#2ca02c"
         },
         "mode": "lines",
         "name": "SOC (t=1)",
         "showlegend": true,
         "type": "scatter",
         "x": [
          0,
          1,
          2,
          3,
          4,
          5,
          6,
          7,
          8,
          9,
          10,
          11,
          12,
          13,
          14,
          15,
          16,
          17,
          18,
          19,
          20,
          21,
          22,
          23,
          24,
          25,
          26,
          27,
          28,
          29,
          30,
          31,
          32,
          33,
          34,
          35,
          36,
          37,
          38,
          39,
          40,
          41,
          42,
          43,
          44,
          45,
          46,
          47,
          48,
          49,
          50,
          51,
          52,
          53,
          54,
          55,
          56,
          57,
          58,
          59,
          60,
          61,
          62,
          63,
          64,
          65,
          66,
          67,
          68,
          69,
          70,
          71,
          72,
          73,
          74,
          75,
          76,
          77,
          78,
          79,
          80,
          81,
          82,
          83,
          84,
          85,
          86,
          87,
          88,
          89,
          90,
          91,
          92,
          93,
          94,
          95,
          96
         ],
         "xaxis": "x",
         "y": {
          "bdata": "AAAAAAAA4D8AAAAAAADgPwAAAAAAAOA/AAAAAAAA4D8AAAAAAADgPwAAAAAAAOA/AAAAAAAA4D8AAAAAAADgPwAAAAAAAOA/AAAAAAAA4D8AAAAAAADgPwAAAAAAAOA/AAAAAAAA4D8AAAAAAADgPwAAAAAAAOA/AAAAAAAA4D8AAAAAAADgPwAAAAAAAOA/AAAAAAAA4D8AAAAAAADgPwAAAAAAAOA/AAAAAAAA4D8AAAAAAADQPwAAAAAAANA/AAAAAAAA0D8AAAAAAADQPwAAAAAAANA/AAAAAAAA0D8AAAAAAADQPwAAAAAAANA/AAAAAAAA0D8AAAAAAADQPwAAAAAAANA/AAAAAAAA0D8AAAAAAADQPwAAAAAAANA/AAAAAAAA0D8AAAAAAADQPwAAAAAAANA/AAAAAAAA0D8AAAAAAADQPwAAAAAAANA/AAAAAAAA0D8AAAAAAADQPwAAAAAAANA/zczMzMzM1D/NzMzMzMzUP83MzMzMzNQ/mpmZmZmZ4T/NzMzMzMzoPwAAAAAAAPA/AAAAAAAA8D8AAAAAAADwPwAAAAAAAPA/AAAAAAAA8D8AAAAAAADwPwAAAAAAAPA/AAAAAAAA8D8AAAAAAADwPwAAAAAAAPA/AAAAAAAA8D8AAAAAAADwPwAAAAAAAPA/AAAAAAAA8D8AAAAAAADwPwAAAAAAAPA/AAAAAAAA8D8AAAAAAADwPwAAAAAAAPA/AAAAAAAA8D8AAAAAAADwPwAAAAAAAPA/xXEcx3Ec5z8Ux3Ecx3HcP2FVVVVVVcU/YVVVVVVVxT8AAAAAAAAAAAAAAAAAAAAAAAAAAAAAAAAAAAAAAAAAAAAAAAAAAAAAAAAAAAAAAAAAAAAAAAAAAAAAAAAAAAAAAAAAAAAAAAAAAAAAAAAAAAAAAAAAAAAAAAAAAAAAAAAAAAAAAAAAAAAAAAAAAAAAAAAAAAAAAAAAAAAAAAAAAAAAAAAAAAAAAAAAAAAAAAAAAAAAAAAAAAAAAAAAAAAAAAAAAAAAAAA=",
          "dtype": "f8"
         },
         "yaxis": "y"
        },
        {
         "line": {
          "color": "#17becf",
          "dash": "dot",
          "shape": "hv"
         },
         "mode": "lines",
         "name": "Price (t=1)",
         "showlegend": true,
         "type": "scatter",
         "x": [
          0,
          1,
          2,
          3,
          4,
          5,
          6,
          7,
          8,
          9,
          10,
          11,
          12,
          13,
          14,
          15,
          16,
          17,
          18,
          19,
          20,
          21,
          22,
          23,
          24,
          25,
          26,
          27,
          28,
          29,
          30,
          31,
          32,
          33,
          34,
          35,
          36,
          37,
          38,
          39,
          40,
          41,
          42,
          43,
          44,
          45,
          46,
          47,
          48,
          49,
          50,
          51,
          52,
          53,
          54,
          55,
          56,
          57,
          58,
          59,
          60,
          61,
          62,
          63,
          64,
          65,
          66,
          67,
          68,
          69,
          70,
          71,
          72,
          73,
          74,
          75,
          76,
          77,
          78,
          79,
          80,
          81,
          82,
          83,
          84,
          85,
          86,
          87,
          88,
          89,
          90,
          91,
          92,
          93,
          94,
          95
         ],
         "xaxis": "x",
         "y": {
          "bdata": "e1brYoBgV0ACvkqKBvZXQGrB4Fjz4lJA3Y3TaDT8U0BOJ4Ah/RpVQBTPVUGtJVVAuGapqhtFVUBqC7Fa7kBWQJHOVs9C5lRACDnXrl1jVkBNuebQpXxVQKaH2wF4llRAKgv6uxxzVEA1MFU8K+VWQAbDeoa/IVdAm+msk+L9VUCQeDd9GmFdQBBegZCy/FpAoJFFckEqXkCHLIAUwZlbQDd9ld2c4V1A/PK3K3jAXkB0f8Fj7K1eQC+KcUR8mlxAglY/N4zaWUCh8ilVeLdVQNTGhs4NnFZAZVgjyIPSV0DhgQrt5CdUQJ3xOSE9Q1JAwKVii1BbUkBdE8P1ix1VQI5gcxKG+ExAoGabv2bAUECNsdKPMyRQQNpcmhR9FFJA0gbhaC1nTUBCb6/8uL1PQLiQJS/kWE5AcG71LldWTEAkxpc2F0RNQJDiftvthE1AA4/ufLuMUEAQYBr+k85RQKrvv75KGkxAb74DiEaYTEBtRV9RmDNOQBMOdojji0hAy3bqx/skR0BrywI2xWJGQDrNboSNi1FArnIJFa1UT0DNpwxKZw9RQBgZBRwXyFBAIJ9c7gqXTkCWbmeImntPQKMBVTO3YUxAk09dBRtIU0AyozO7ukFRQM2W5t6ycFRApzu/vx0AVUAik2L+Tj9WQJFzXv+e1FdA8PxOz3dYV0CSrNNc9a1bQKue1h7NEFpAtlyOGch3WkAw3R8nivhYQGhMCe4FB2FAfEmy+UYnYUBPI7WOEY5gQPvoiIkXh2FAvtYYd252Y0DVFaa/HbliQA6vCS6KBmFAT7vIWEFdYUB6gQ8ObCVgQPxnISSQfV5AtsgX9Au4X0AgC7vdq0FgQONXAhKO8FhALj1G0GQMXECZmQYiBzFbQI7qvuKOB1tAtUKqO5g5WEAva1WlnmZXQA7d3bOT9lZAFv4A0eHaVUDCZzhXfCVQQL4tOtR50FFAXlBkR2NZUUDcBxg43iNRQEz7eJQQoU5AUSsTKg8PUUAGNfW0xmhPQCEzdWI9ok5A",
          "dtype": "f8"
         },
         "yaxis": "y2"
        },
        {
         "line": {
          "color": "#d62728"
         },
         "mode": "lines",
         "name": "SOC (t=2)",
         "showlegend": true,
         "type": "scatter",
         "x": [
          0,
          1,
          2,
          3,
          4,
          5,
          6,
          7,
          8,
          9,
          10,
          11,
          12,
          13,
          14,
          15,
          16,
          17,
          18,
          19,
          20,
          21,
          22,
          23,
          24,
          25,
          26,
          27,
          28,
          29,
          30,
          31,
          32,
          33,
          34,
          35,
          36,
          37,
          38,
          39,
          40,
          41,
          42,
          43,
          44,
          45,
          46,
          47,
          48,
          49,
          50,
          51,
          52,
          53,
          54,
          55,
          56,
          57,
          58,
          59,
          60,
          61,
          62,
          63,
          64,
          65,
          66,
          67,
          68,
          69,
          70,
          71,
          72,
          73,
          74,
          75,
          76,
          77,
          78,
          79,
          80,
          81,
          82,
          83,
          84,
          85,
          86,
          87,
          88,
          89,
          90,
          91,
          92,
          93,
          94,
          95,
          96
         ],
         "xaxis": "x",
         "y": {
          "bdata": "AAAAAAAA4D8AAAAAAADgPwAAAAAAAOA/AAAAAAAA4D8AAAAAAADgPwAAAAAAAOA/AAAAAAAA4D8AAAAAAADgPwAAAAAAAOA/AAAAAAAA4D8AAAAAAADgPwAAAAAAAOA/AAAAAAAA4D8AAAAAAADgPwAAAAAAAOA/AAAAAAAA4D8AAAAAAADgPwAAAAAAAOA/AAAAAAAA4D8AAAAAAADgPwAAAAAAAOA/AAAAAAAA0D8AAAAAAAAAAAAAAAAAAAAAAAAAAAAAAAAAAAAAAAAAAAAAAAAAAAAAAAAAAAAAAAAAAAAAAAAAAAAAAAAAAAAAAAAAAAAAAAAAAAAAAAAAAAAAAAAAAAAAAAAAAAAAAAAAAAAAAAAAAAAAAAAAAAAAAAAAAAAAAAAAAAAAAAAAAAAAAAAAAAAAAAAAAAAAAAAzMzMzMzOzPzMzMzMzM7M/MzMzMzMzsz8zMzMzMzOzPzMzMzMzM7M/MzMzMzMzsz8zMzMzMzOzPzMzMzMzM7M/MzMzMzMzsz8zMzMzMzPTP83MzMzMzOA/zczMzMzM4D/NzMzMzMzgP83MzMzMzOA/zczMzMzM4D/NzMzMzMzgP83MzMzMzOA/AAAAAAAA6D8AAAAAAADoPwAAAAAAAOg/AAAAAAAA6D8AAAAAAADoPwAAAAAAAOg/AAAAAAAA6D8AAAAAAADoPwAAAAAAAOg/AAAAAAAA6D8AAAAAAADoPwAAAAAAAOg/dhzHcRzH4T92HMdxHMfhP3Ycx3Ecx9E/dhzHcRzH0T8AAAAAAAAAAAAAAAAAAAAAAAAAAAAAAAAAAAAAAAAAAAAAAAAAAAAAAAAAAAAAAAAAAAAAAAAAAAAAAAAAAAAAAAAAAAAAAAAAAAAAAAAAAAAAAAAAAAAAAAAAAAAAAAAAAAAAAAAAAAAAAAAAAAAAAAAAAAAAAAAAAAAAAAAAAAAAAAAAAAAAAAAAAAAAAAAAAAAAAAAAAAAAAAAAAAAAAAAAAAAAAAAAAAAAAAAAAAAAAAAAAAAAAAAAAAAAAAA=",
          "dtype": "f8"
         },
         "yaxis": "y"
        },
        {
         "line": {
          "color": "#e377c2",
          "dash": "dot",
          "shape": "hv"
         },
         "mode": "lines",
         "name": "Price (t=2)",
         "showlegend": true,
         "type": "scatter",
         "x": [
          0,
          1,
          2,
          3,
          4,
          5,
          6,
          7,
          8,
          9,
          10,
          11,
          12,
          13,
          14,
          15,
          16,
          17,
          18,
          19,
          20,
          21,
          22,
          23,
          24,
          25,
          26,
          27,
          28,
          29,
          30,
          31,
          32,
          33,
          34,
          35,
          36,
          37,
          38,
          39,
          40,
          41,
          42,
          43,
          44,
          45,
          46,
          47,
          48,
          49,
          50,
          51,
          52,
          53,
          54,
          55,
          56,
          57,
          58,
          59,
          60,
          61,
          62,
          63,
          64,
          65,
          66,
          67,
          68,
          69,
          70,
          71,
          72,
          73,
          74,
          75,
          76,
          77,
          78,
          79,
          80,
          81,
          82,
          83,
          84,
          85,
          86,
          87,
          88,
          89,
          90,
          91,
          92,
          93,
          94,
          95
         ],
         "xaxis": "x",
         "y": {
          "bdata": "KCYt2/TYVkCFh7nxZn5VQJhyVeBw+lNAhWOzep/WUkCgxs7wBoZUQDo05Otid1RA7yixOcaLVUCQfYWAvz1VQHIRfDmAy1NA1o7AH6HgVECD9mHssyJUQMw3eHHbnFFAbBw9lMtXUUBnSdpeQTZTQI8x7apMUlVA6djflYLzVEDM5IQfYSNdQBDGRps581hAB7jGzVKjWkAnhWm7BP9cQB0KWAa4RGFAlmsk+8Q+YUAnGnn4Ey9fQIaXDmb8QF1A7T6676sBWUCSE9mhRGVYQHyD6XKbJFtAlGpz27iWWEDXEdo9kW9WQKz3s8Amh1NA0V4BvaNnU0BDWkBvs+dVQMtMWj+C7U9AVm4s1OiuUEDTI9p68cZSQJEOTWPltFJAR31hQyVtTkAOHzh8+PtTQLQUpfzZG1BAHbVYVd1/R0A+ZeGNDjNKQFOPqOVjYVBAPnEsTOyDUkAxk0P3jc1UQE4aA8heYFBAqZo0ePhQT0D6AdtyQb5RQDilNyRL/05A6UNnR1kgR0DsiO95jtBFQAJug/qf/VNAZhSuDE4cUkBKegck9FhRQIZEx0PkPk9AsZT9DzYhTUBirHbVR7JMQB8WxcSZjkZADlBHMPvUU0BmZCSw5TdRQL6mjsLzgFVA2qXcIshYU0C6J/G3sSBWQBYZoSKMI1hAQiQzHUixV0DM3Enlj3NaQKCK460SLFlA+tNx9PXJWECapX9xewRZQLAtpwUNq2BAlux8nuFaYECkTzLT1gVhQGopV15RM1tA8OvwAnL1YEDWqx6LO5FfQHYVR/zYClpApvMB7keKW0AhrUsIb3VbQFIEMqnanWBADFlJ0iNPYEBAEIOm5pNgQElBAm2qa1dAdj0PGsgXWEDE8LlxQ8JZQAJW6E8kk1pA8is3ErWpWUAv4T2cJPpVQGi8/j6no1RALDh1S0diVkB4VoFGr0BQQKrmI4rTdlJA0XHfVSXIUEBi7xTuBv5PQAgIz7nv+1BAAjBzQD6vU0BQjxsCRD1QQH7mEwAB4ExA",
          "dtype": "f8"
         },
         "yaxis": "y2"
        },
        {
         "line": {
          "color": "#9467bd"
         },
         "mode": "lines",
         "name": "SOC (t=3)",
         "showlegend": true,
         "type": "scatter",
         "x": [
          0,
          1,
          2,
          3,
          4,
          5,
          6,
          7,
          8,
          9,
          10,
          11,
          12,
          13,
          14,
          15,
          16,
          17,
          18,
          19,
          20,
          21,
          22,
          23,
          24,
          25,
          26,
          27,
          28,
          29,
          30,
          31,
          32,
          33,
          34,
          35,
          36,
          37,
          38,
          39,
          40,
          41,
          42,
          43,
          44,
          45,
          46,
          47,
          48,
          49,
          50,
          51,
          52,
          53,
          54,
          55,
          56,
          57,
          58,
          59,
          60,
          61,
          62,
          63,
          64,
          65,
          66,
          67,
          68,
          69,
          70,
          71,
          72,
          73,
          74,
          75,
          76,
          77,
          78,
          79,
          80,
          81,
          82,
          83,
          84,
          85,
          86,
          87,
          88,
          89,
          90,
          91,
          92,
          93,
          94,
          95,
          96
         ],
         "xaxis": "x",
         "y": {
          "bdata": "AAAAAAAA4D8AAAAAAADgPwAAAAAAAOA/AAAAAAAA4D8AAAAAAADgPwAAAAAAAOA/AAAAAAAA4D8AAAAAAADgPwAAAAAAAOA/AAAAAAAA4D8AAAAAAADgPwAAAAAAAOA/AAAAAAAA4D8AAAAAAADgPwAAAAAAAOA/AAAAAAAA4D8AAAAAAADgPwAAAAAAAOA/AAAAAAAA4D8AAAAAAADgPwAAAAAAAOA/AAAAAAAA0D8AAAAAAAAAAAAAAAAAAAAAAAAAAAAAAAAAAAAAAAAAAAAAAAAAAAAAAAAAAAAAAAAAAAAAAAAAAAAAAAAAAAAAAAAAAAAAAAAAAAAAAAAAAAAAAAAAAAAAAAAAAAAAAAAAAAAAAAAAAAAAAAAAAAAAAAAAAAAAAAAAAAAAAAAAAAAAAAAAAAAAAAAAAAAAAAAAAAAAAAAAAAAAAAAAAAAAAAAAAAAAAAAAAAAAAAAAAAAAAAAAAAAAAAAAAAAAAAA6MzMzMzOzPzozMzMzM7M/OjMzMzMzsz8zMzMzMzPTP83MzMzMzOA/zczMzMzM4D/NzMzMzMzgP83MzMzMzOA/zczMzMzM4D/NzMzMzMzgP83MzMzMzOA/AAAAAAAA6D8AAAAAAADoPwAAAAAAAOg/AAAAAAAA6D8AAAAAAADoPwAAAAAAAOg/AAAAAAAA6D8AAAAAAADoPwAAAAAAAOg/AAAAAAAA6D8AAAAAAADoPwAAAAAAAOg/dhzHcRzH4T92HMdxHMfhP3Ycx3Ecx9E/dhzHcRzH0T8AAAAAAAAAAAAAAAAAAAAAAAAAAAAAAAAAAAAAAAAAAAAAAAAAAAAAAAAAAAAAAAAAAAAAAAAAAAAAAAAAAAAAAAAAAAAAAAAAAAAAAAAAAAAAAAAAAAAAAAAAAAAAAAAAAAAAAAAAAAAAAAAAAAAAAAAAAAAAAAAAAAAAAAAAAAAAAAAAAAAAAAAAAAAAAAAAAAAAAAAAAAAAAAAAAAAAAAAAAAAAAAAAAAAAAAAAAAAAAAAAAAAAAAAAAAAAAAA=",
          "dtype": "f8"
         },
         "yaxis": "y"
        },
        {
         "line": {
          "color": "#bcbd22",
          "dash": "dot",
          "shape": "hv"
         },
         "mode": "lines",
         "name": "Price (t=3)",
         "showlegend": true,
         "type": "scatter",
         "x": [
          0,
          1,
          2,
          3,
          4,
          5,
          6,
          7,
          8,
          9,
          10,
          11,
          12,
          13,
          14,
          15,
          16,
          17,
          18,
          19,
          20,
          21,
          22,
          23,
          24,
          25,
          26,
          27,
          28,
          29,
          30,
          31,
          32,
          33,
          34,
          35,
          36,
          37,
          38,
          39,
          40,
          41,
          42,
          43,
          44,
          45,
          46,
          47,
          48,
          49,
          50,
          51,
          52,
          53,
          54,
          55,
          56,
          57,
          58,
          59,
          60,
          61,
          62,
          63,
          64,
          65,
          66,
          67,
          68,
          69,
          70,
          71,
          72,
          73,
          74,
          75,
          76,
          77,
          78,
          79,
          80,
          81,
          82,
          83,
          84,
          85,
          86,
          87,
          88,
          89,
          90,
          91,
          92,
          93,
          94,
          95
         ],
         "xaxis": "x",
         "y": {
          "bdata": "9YQY8fftVkDWSrC69mFVQIIEgqqgtVRAZefuCX14UkDJ0Cj0NTdTQIVCX04qelRASf+L33uFVUCKDbKnmedTQKWYhs5e2VJADjocP3TXVEClYwNGVnBTQCfMymU2CVBApyJnWR/YUUBANEXH0c1RQAu1isW5fFRAGob4+dPqU0CYYljDZvJaQLtnedbeGFlADY4eT+dtWUAJ4Ch1kq9cQIr+lRg9jWJAJ+QHgXsaYkAFJS0jbzlgQMHYMoU0Ll1AqW6FxcQrVkDzakkxXJBWQBs54YqtMFlA6L73sH96WUBQOrQDVS9UQGq4Q8trOFNALtLXl2aVVEDkglbkkKRWQKCwnKWmmFNAU0H4egp1UECEcQw5VERSQARKvOJoM1NAPqf+j3SBUECOCI8RfvlTQGgMyL1OJlJAhGmrKEe8R0CgGP/N2rtIQAgC1fmocUtAWRxN5+lTUUD7cExPfr1UQLbKUHY4ok1AtkY65MBPRkDJYYXC4RFRQDK2W5+ACEtA3pQVqHxeQkDYIBrLPYtDQESOlJGtYE9ArJ6qDYD/UECqTRB509hPQBI6YezjOU9A3n0X4U+NS0Dm7Vkoz09IQE0CyEdqWkZAjvxc6hpMUUCcvdEKiIdQQNF+uOnIqFZA/JAPjEeoUEAqD+WHBUpUQEUPUeFLT1hAyq+bePb+V0DWSWu3SPpbQIe9RiTYi1pAKRSb8D8sWUBapEtiTGBYQHXDeYY9wWBAvCdyjvOXXkDTRrwhG3BgQPV8LfqbhV9AU7zH4F3KYkAZSu7ncftfQJIJrBZz5lZA8q4NeUvGWkBd/zKs0V9bQKQGFg/pNF9AJztFWABKXkCCJvskkDdgQGoNr6Zpg1hAZfntJpbEW0AG1M7RzChbQDX4oD+6AVtAtp1OD2OaWUDft1k2fcdVQPpHmnBNslRALy5rZzmBVkDZFkdWA49SQGT+hqQ17k9AqtM3+v2nUEA4x0rbicpTQMYAyiG5J1NAm99/e1zgU0BziFA5RPZOQP0GF4Ls5k1A",
          "dtype": "f8"
         },
         "yaxis": "y2"
        },
        {
         "line": {
          "color": "#8c564b"
         },
         "mode": "lines",
         "name": "SOC (t=4)",
         "showlegend": true,
         "type": "scatter",
         "x": [
          0,
          1,
          2,
          3,
          4,
          5,
          6,
          7,
          8,
          9,
          10,
          11,
          12,
          13,
          14,
          15,
          16,
          17,
          18,
          19,
          20,
          21,
          22,
          23,
          24,
          25,
          26,
          27,
          28,
          29,
          30,
          31,
          32,
          33,
          34,
          35,
          36,
          37,
          38,
          39,
          40,
          41,
          42,
          43,
          44,
          45,
          46,
          47,
          48,
          49,
          50,
          51,
          52,
          53,
          54,
          55,
          56,
          57,
          58,
          59,
          60,
          61,
          62,
          63,
          64,
          65,
          66,
          67,
          68,
          69,
          70,
          71,
          72,
          73,
          74,
          75,
          76,
          77,
          78,
          79,
          80,
          81,
          82,
          83,
          84,
          85,
          86,
          87,
          88,
          89,
          90,
          91,
          92,
          93,
          94,
          95,
          96
         ],
         "xaxis": "x",
         "y": {
          "bdata": "AAAAAAAA4D8AAAAAAADgPwAAAAAAAOA/AAAAAAAA4D8AAAAAAADgPwAAAAAAAOA/AAAAAAAA4D8AAAAAAADgPwAAAAAAAOA/AAAAAAAA4D8AAAAAAADgPwAAAAAAAOA/AAAAAAAA4D8AAAAAAADgPwAAAAAAAOA/AAAAAAAA4D8AAAAAAADgPwAAAAAAAOA/AAAAAAAA4D8AAAAAAADgPwAAAAAAAOA/AAAAAAAA0D8AAAAAAAAAAAAAAAAAAAAAAAAAAAAAAAAAAAAAAAAAAAAAAAAAAAAAAAAAAAAAAAAAAAAAAAAAAAAAAAAAAAAAAAAAAAAAAAAAAAAAAAAAAAAAAAAAAAAAAAAAAAAAAAAAAAAAAAAAAAAAAAAAAAAAAAAAAAAAAAAAAAAAAAAAAAAAAAAAAAAAAAAAAAAAAAA6MzMzMzOzPzozMzMzM7M/OjMzMzMzsz86MzMzMzOzPzozMzMzM7M/OjMzMzMzsz8zMzMzMzPTPzMzMzMzM9M/MzMzMzMz0z/NzMzMzMzgPwAAAAAAAOg/AAAAAAAA6D8AAAAAAADoPwAAAAAAAOg/AAAAAAAA6D8AAAAAAADoPwAAAAAAAOg/AAAAAAAA6D8AAAAAAADoPwAAAAAAAOg/AAAAAAAA6D8AAAAAAADoPwAAAAAAAOg/AAAAAAAA6D8AAAAAAADoPwAAAAAAAOg/AAAAAAAA6D8AAAAAAADoPwAAAAAAAOg/AAAAAAAA6D8AAAAAAADoP4rjOI7jON4/iuM4juM43j9NjuM4juPIPwAAAAAAAAAAAAAAAAAAAAAAAAAAAAAAAAAAAAAAAAAAAAAAAAAAAAAAAAAAAAAAAAAAAAAAAAAAAAAAAAAAAAAAAAAAAAAAAAAAAAAAAAAAAAAAAAAAAAAAAAAAAAAAAAAAAAAAAAAAAAAAAAAAAAAAAAAAAAAAAAAAAAAAAAAAAAAAAAAAAAAAAAAAAAAAAAAAAAAAAAAAAAAAAAAAAAAAAAAAAAAAAAAAAAAAAAAAAAAAAAAAAAA=",
          "dtype": "f8"
         },
         "yaxis": "y"
        },
        {
         "line": {
          "color": "#7f7f7f",
          "dash": "dot",
          "shape": "hv"
         },
         "mode": "lines",
         "name": "Price (t=4)",
         "showlegend": true,
         "type": "scatter",
         "x": [
          0,
          1,
          2,
          3,
          4,
          5,
          6,
          7,
          8,
          9,
          10,
          11,
          12,
          13,
          14,
          15,
          16,
          17,
          18,
          19,
          20,
          21,
          22,
          23,
          24,
          25,
          26,
          27,
          28,
          29,
          30,
          31,
          32,
          33,
          34,
          35,
          36,
          37,
          38,
          39,
          40,
          41,
          42,
          43,
          44,
          45,
          46,
          47,
          48,
          49,
          50,
          51,
          52,
          53,
          54,
          55,
          56,
          57,
          58,
          59,
          60,
          61,
          62,
          63,
          64,
          65,
          66,
          67,
          68,
          69,
          70,
          71,
          72,
          73,
          74,
          75,
          76,
          77,
          78,
          79,
          80,
          81,
          82,
          83,
          84,
          85,
          86,
          87,
          88,
          89,
          90,
          91,
          92,
          93,
          94,
          95
         ],
         "xaxis": "x",
         "y": {
          "bdata": "5gG9QvGhVkBIpXEZm8VUQC6kroBAm1VASVsfJuJqUUAuPqEWzPtRQDZolVPSflRASu49/xQ5VUDUCiXkWh9TQMLakq677lFA0Kia3mCMVEDFpKwd+atSQFJV2jIt2EtANYjZIhcBUUDhEzP7f0tQQJUvfvofFFNA0yd+wiSSU0DaTNwyMZBaQBqHblbwy1hA3GCI3JeeWUDFWjhv185gQLC8eq8O5mFAY+CaAiM7YkAcCv2LbmJhQI1+Oc4qel5A5wu7gM+cV0AwoRg857xXQLI6M1EysFhAKtxMj9NPWUDspWgu7otUQPGCJXpSDlRAZZiEPkv6U0BVA8c0vj1WQOWlXxTaQ1JAKm5rbMHAUUA69dx20H9RQA+b1QCajFFACuN2CqZwSkAu7Pxq/01SQO/6VA+F2k1A/Vuao5mmQ0DSUpRHFPhEQJnmog9h6kdAzDEJjjAiT0AiphAd9FBTQE86K+X/m0dAUc+x3g4CQ0AlYAuhLyBQQGcG3TCjdkdAdv/To5igM0CsDdnWdaY+QHzHHnks0k5AdnFuTSFUUEAtaCzmN2hLQBZePAtrmEpAhMzru/9+TECDsruE7stGQCqMTrvMTUNAFmjKq7oxTkAYZOysIV5MQFZWAzX9fVZAfi5APe8jTUBBTB8FDWZUQLDblE1CHlhAIHEM72OEVkDsqOuWME5dQGNUuXR7IlxA8upXuHH9V0CegUhwbkVbQOEXxJw2smBAD3yinxUrXUAiXnfObaFhQMlKYWHP9V9AuddOrUmLY0AI46Z+pAVhQDaRG6l9BlpAyp395V8jXkD9mNWo4Z9fQNVYomV92mBAaJKndGApXkDY84oBp+BfQK1QEXDwcVVAnGA0hsO4W0Dy0Wds/EZZQKUyJ4DBfVhAMrGT7LV/V0AqrFXuejxTQJ1LnYIsVVNAumWt7DuMVUAA0oLD/iZTQKs+RnLlY05Amh579uwPTEDsahL2nytVQFqccFGZSVFAkCyD+RHQUkDjAf5T3h1LQLbmkW6Nm05A",
          "dtype": "f8"
         },
         "yaxis": "y2"
        }
       ],
       "layout": {
        "font": {
         "color": "black"
        },
        "hovermode": "x unified",
        "paper_bgcolor": "white",
        "plot_bgcolor": "white",
        "template": {
         "data": {
          "bar": [
           {
            "error_x": {
             "color": "#2a3f5f"
            },
            "error_y": {
             "color": "#2a3f5f"
            },
            "marker": {
             "line": {
              "color": "white",
              "width": 0.5
             },
             "pattern": {
              "fillmode": "overlay",
              "size": 10,
              "solidity": 0.2
             }
            },
            "type": "bar"
           }
          ],
          "barpolar": [
           {
            "marker": {
             "line": {
              "color": "white",
              "width": 0.5
             },
             "pattern": {
              "fillmode": "overlay",
              "size": 10,
              "solidity": 0.2
             }
            },
            "type": "barpolar"
           }
          ],
          "carpet": [
           {
            "aaxis": {
             "endlinecolor": "#2a3f5f",
             "gridcolor": "#C8D4E3",
             "linecolor": "#C8D4E3",
             "minorgridcolor": "#C8D4E3",
             "startlinecolor": "#2a3f5f"
            },
            "baxis": {
             "endlinecolor": "#2a3f5f",
             "gridcolor": "#C8D4E3",
             "linecolor": "#C8D4E3",
             "minorgridcolor": "#C8D4E3",
             "startlinecolor": "#2a3f5f"
            },
            "type": "carpet"
           }
          ],
          "choropleth": [
           {
            "colorbar": {
             "outlinewidth": 0,
             "ticks": ""
            },
            "type": "choropleth"
           }
          ],
          "contour": [
           {
            "colorbar": {
             "outlinewidth": 0,
             "ticks": ""
            },
            "colorscale": [
             [
              0,
              "#0d0887"
             ],
             [
              0.1111111111111111,
              "#46039f"
             ],
             [
              0.2222222222222222,
              "#7201a8"
             ],
             [
              0.3333333333333333,
              "#9c179e"
             ],
             [
              0.4444444444444444,
              "#bd3786"
             ],
             [
              0.5555555555555556,
              "#d8576b"
             ],
             [
              0.6666666666666666,
              "#ed7953"
             ],
             [
              0.7777777777777778,
              "#fb9f3a"
             ],
             [
              0.8888888888888888,
              "#fdca26"
             ],
             [
              1,
              "#f0f921"
             ]
            ],
            "type": "contour"
           }
          ],
          "contourcarpet": [
           {
            "colorbar": {
             "outlinewidth": 0,
             "ticks": ""
            },
            "type": "contourcarpet"
           }
          ],
          "heatmap": [
           {
            "colorbar": {
             "outlinewidth": 0,
             "ticks": ""
            },
            "colorscale": [
             [
              0,
              "#0d0887"
             ],
             [
              0.1111111111111111,
              "#46039f"
             ],
             [
              0.2222222222222222,
              "#7201a8"
             ],
             [
              0.3333333333333333,
              "#9c179e"
             ],
             [
              0.4444444444444444,
              "#bd3786"
             ],
             [
              0.5555555555555556,
              "#d8576b"
             ],
             [
              0.6666666666666666,
              "#ed7953"
             ],
             [
              0.7777777777777778,
              "#fb9f3a"
             ],
             [
              0.8888888888888888,
              "#fdca26"
             ],
             [
              1,
              "#f0f921"
             ]
            ],
            "type": "heatmap"
           }
          ],
          "histogram": [
           {
            "marker": {
             "pattern": {
              "fillmode": "overlay",
              "size": 10,
              "solidity": 0.2
             }
            },
            "type": "histogram"
           }
          ],
          "histogram2d": [
           {
            "colorbar": {
             "outlinewidth": 0,
             "ticks": ""
            },
            "colorscale": [
             [
              0,
              "#0d0887"
             ],
             [
              0.1111111111111111,
              "#46039f"
             ],
             [
              0.2222222222222222,
              "#7201a8"
             ],
             [
              0.3333333333333333,
              "#9c179e"
             ],
             [
              0.4444444444444444,
              "#bd3786"
             ],
             [
              0.5555555555555556,
              "#d8576b"
             ],
             [
              0.6666666666666666,
              "#ed7953"
             ],
             [
              0.7777777777777778,
              "#fb9f3a"
             ],
             [
              0.8888888888888888,
              "#fdca26"
             ],
             [
              1,
              "#f0f921"
             ]
            ],
            "type": "histogram2d"
           }
          ],
          "histogram2dcontour": [
           {
            "colorbar": {
             "outlinewidth": 0,
             "ticks": ""
            },
            "colorscale": [
             [
              0,
              "#0d0887"
             ],
             [
              0.1111111111111111,
              "#46039f"
             ],
             [
              0.2222222222222222,
              "#7201a8"
             ],
             [
              0.3333333333333333,
              "#9c179e"
             ],
             [
              0.4444444444444444,
              "#bd3786"
             ],
             [
              0.5555555555555556,
              "#d8576b"
             ],
             [
              0.6666666666666666,
              "#ed7953"
             ],
             [
              0.7777777777777778,
              "#fb9f3a"
             ],
             [
              0.8888888888888888,
              "#fdca26"
             ],
             [
              1,
              "#f0f921"
             ]
            ],
            "type": "histogram2dcontour"
           }
          ],
          "mesh3d": [
           {
            "colorbar": {
             "outlinewidth": 0,
             "ticks": ""
            },
            "type": "mesh3d"
           }
          ],
          "parcoords": [
           {
            "line": {
             "colorbar": {
              "outlinewidth": 0,
              "ticks": ""
             }
            },
            "type": "parcoords"
           }
          ],
          "pie": [
           {
            "automargin": true,
            "type": "pie"
           }
          ],
          "scatter": [
           {
            "fillpattern": {
             "fillmode": "overlay",
             "size": 10,
             "solidity": 0.2
            },
            "type": "scatter"
           }
          ],
          "scatter3d": [
           {
            "line": {
             "colorbar": {
              "outlinewidth": 0,
              "ticks": ""
             }
            },
            "marker": {
             "colorbar": {
              "outlinewidth": 0,
              "ticks": ""
             }
            },
            "type": "scatter3d"
           }
          ],
          "scattercarpet": [
           {
            "marker": {
             "colorbar": {
              "outlinewidth": 0,
              "ticks": ""
             }
            },
            "type": "scattercarpet"
           }
          ],
          "scattergeo": [
           {
            "marker": {
             "colorbar": {
              "outlinewidth": 0,
              "ticks": ""
             }
            },
            "type": "scattergeo"
           }
          ],
          "scattergl": [
           {
            "marker": {
             "colorbar": {
              "outlinewidth": 0,
              "ticks": ""
             }
            },
            "type": "scattergl"
           }
          ],
          "scattermap": [
           {
            "marker": {
             "colorbar": {
              "outlinewidth": 0,
              "ticks": ""
             }
            },
            "type": "scattermap"
           }
          ],
          "scattermapbox": [
           {
            "marker": {
             "colorbar": {
              "outlinewidth": 0,
              "ticks": ""
             }
            },
            "type": "scattermapbox"
           }
          ],
          "scatterpolar": [
           {
            "marker": {
             "colorbar": {
              "outlinewidth": 0,
              "ticks": ""
             }
            },
            "type": "scatterpolar"
           }
          ],
          "scatterpolargl": [
           {
            "marker": {
             "colorbar": {
              "outlinewidth": 0,
              "ticks": ""
             }
            },
            "type": "scatterpolargl"
           }
          ],
          "scatterternary": [
           {
            "marker": {
             "colorbar": {
              "outlinewidth": 0,
              "ticks": ""
             }
            },
            "type": "scatterternary"
           }
          ],
          "surface": [
           {
            "colorbar": {
             "outlinewidth": 0,
             "ticks": ""
            },
            "colorscale": [
             [
              0,
              "#0d0887"
             ],
             [
              0.1111111111111111,
              "#46039f"
             ],
             [
              0.2222222222222222,
              "#7201a8"
             ],
             [
              0.3333333333333333,
              "#9c179e"
             ],
             [
              0.4444444444444444,
              "#bd3786"
             ],
             [
              0.5555555555555556,
              "#d8576b"
             ],
             [
              0.6666666666666666,
              "#ed7953"
             ],
             [
              0.7777777777777778,
              "#fb9f3a"
             ],
             [
              0.8888888888888888,
              "#fdca26"
             ],
             [
              1,
              "#f0f921"
             ]
            ],
            "type": "surface"
           }
          ],
          "table": [
           {
            "cells": {
             "fill": {
              "color": "#EBF0F8"
             },
             "line": {
              "color": "white"
             }
            },
            "header": {
             "fill": {
              "color": "#C8D4E3"
             },
             "line": {
              "color": "white"
             }
            },
            "type": "table"
           }
          ]
         },
         "layout": {
          "annotationdefaults": {
           "arrowcolor": "#2a3f5f",
           "arrowhead": 0,
           "arrowwidth": 1
          },
          "autotypenumbers": "strict",
          "coloraxis": {
           "colorbar": {
            "outlinewidth": 0,
            "ticks": ""
           }
          },
          "colorscale": {
           "diverging": [
            [
             0,
             "#8e0152"
            ],
            [
             0.1,
             "#c51b7d"
            ],
            [
             0.2,
             "#de77ae"
            ],
            [
             0.3,
             "#f1b6da"
            ],
            [
             0.4,
             "#fde0ef"
            ],
            [
             0.5,
             "#f7f7f7"
            ],
            [
             0.6,
             "#e6f5d0"
            ],
            [
             0.7,
             "#b8e186"
            ],
            [
             0.8,
             "#7fbc41"
            ],
            [
             0.9,
             "#4d9221"
            ],
            [
             1,
             "#276419"
            ]
           ],
           "sequential": [
            [
             0,
             "#0d0887"
            ],
            [
             0.1111111111111111,
             "#46039f"
            ],
            [
             0.2222222222222222,
             "#7201a8"
            ],
            [
             0.3333333333333333,
             "#9c179e"
            ],
            [
             0.4444444444444444,
             "#bd3786"
            ],
            [
             0.5555555555555556,
             "#d8576b"
            ],
            [
             0.6666666666666666,
             "#ed7953"
            ],
            [
             0.7777777777777778,
             "#fb9f3a"
            ],
            [
             0.8888888888888888,
             "#fdca26"
            ],
            [
             1,
             "#f0f921"
            ]
           ],
           "sequentialminus": [
            [
             0,
             "#0d0887"
            ],
            [
             0.1111111111111111,
             "#46039f"
            ],
            [
             0.2222222222222222,
             "#7201a8"
            ],
            [
             0.3333333333333333,
             "#9c179e"
            ],
            [
             0.4444444444444444,
             "#bd3786"
            ],
            [
             0.5555555555555556,
             "#d8576b"
            ],
            [
             0.6666666666666666,
             "#ed7953"
            ],
            [
             0.7777777777777778,
             "#fb9f3a"
            ],
            [
             0.8888888888888888,
             "#fdca26"
            ],
            [
             1,
             "#f0f921"
            ]
           ]
          },
          "colorway": [
           "#636efa",
           "#EF553B",
           "#00cc96",
           "#ab63fa",
           "#FFA15A",
           "#19d3f3",
           "#FF6692",
           "#B6E880",
           "#FF97FF",
           "#FECB52"
          ],
          "font": {
           "color": "#2a3f5f"
          },
          "geo": {
           "bgcolor": "white",
           "lakecolor": "white",
           "landcolor": "white",
           "showlakes": true,
           "showland": true,
           "subunitcolor": "#C8D4E3"
          },
          "hoverlabel": {
           "align": "left"
          },
          "hovermode": "closest",
          "mapbox": {
           "style": "light"
          },
          "paper_bgcolor": "white",
          "plot_bgcolor": "white",
          "polar": {
           "angularaxis": {
            "gridcolor": "#EBF0F8",
            "linecolor": "#EBF0F8",
            "ticks": ""
           },
           "bgcolor": "white",
           "radialaxis": {
            "gridcolor": "#EBF0F8",
            "linecolor": "#EBF0F8",
            "ticks": ""
           }
          },
          "scene": {
           "xaxis": {
            "backgroundcolor": "white",
            "gridcolor": "#DFE8F3",
            "gridwidth": 2,
            "linecolor": "#EBF0F8",
            "showbackground": true,
            "ticks": "",
            "zerolinecolor": "#EBF0F8"
           },
           "yaxis": {
            "backgroundcolor": "white",
            "gridcolor": "#DFE8F3",
            "gridwidth": 2,
            "linecolor": "#EBF0F8",
            "showbackground": true,
            "ticks": "",
            "zerolinecolor": "#EBF0F8"
           },
           "zaxis": {
            "backgroundcolor": "white",
            "gridcolor": "#DFE8F3",
            "gridwidth": 2,
            "linecolor": "#EBF0F8",
            "showbackground": true,
            "ticks": "",
            "zerolinecolor": "#EBF0F8"
           }
          },
          "shapedefaults": {
           "line": {
            "color": "#2a3f5f"
           }
          },
          "ternary": {
           "aaxis": {
            "gridcolor": "#DFE8F3",
            "linecolor": "#A2B1C6",
            "ticks": ""
           },
           "baxis": {
            "gridcolor": "#DFE8F3",
            "linecolor": "#A2B1C6",
            "ticks": ""
           },
           "bgcolor": "white",
           "caxis": {
            "gridcolor": "#DFE8F3",
            "linecolor": "#A2B1C6",
            "ticks": ""
           }
          },
          "title": {
           "x": 0.05
          },
          "xaxis": {
           "automargin": true,
           "gridcolor": "#EBF0F8",
           "linecolor": "#EBF0F8",
           "ticks": "",
           "title": {
            "standoff": 15
           },
           "zerolinecolor": "#EBF0F8",
           "zerolinewidth": 2
          },
          "yaxis": {
           "automargin": true,
           "gridcolor": "#EBF0F8",
           "linecolor": "#EBF0F8",
           "ticks": "",
           "title": {
            "standoff": 15
           },
           "zerolinecolor": "#EBF0F8",
           "zerolinewidth": 2
          }
         }
        },
        "title": {
         "text": "Battery State of Charge and Price Path (Timesteps 0-4)"
        },
        "xaxis": {
         "anchor": "y",
         "domain": [
          0,
          0.94
         ],
         "gridcolor": "rgba(0, 0, 0, 0.1)",
         "title": {
          "text": "Time Step"
         }
        },
        "yaxis": {
         "anchor": "x",
         "domain": [
          0,
          1
         ],
         "gridcolor": "rgba(0, 0, 0, 0.1)",
         "title": {
          "text": "State of Charge (SOC)"
         }
        },
        "yaxis2": {
         "anchor": "x",
         "gridcolor": "rgba(0, 0, 0, 0.1)",
         "overlaying": "y",
         "side": "right",
         "title": {
          "text": "Price"
         }
        }
       }
      }
     },
     "metadata": {},
     "output_type": "display_data"
    }
   ],
   "source": [
    "\n",
    "# plot schedule for timesteps 0 to 4\n",
    "import plotly.graph_objects as go\n",
    "from plotly.subplots import make_subplots\n",
    "\n",
    "# Define color palettes for different timesteps\n",
    "soc_colors = [\"#1f77b4\", \"#2ca02c\", \"#d62728\", \"#9467bd\", \"#8c564b\"]  # blue, green, red, purple, brown\n",
    "price_colors = [\"#ff7f0e\", \"#17becf\", \"#e377c2\", \"#bcbd22\", \"#7f7f7f\"]  # orange, cyan, pink, olive, gray\n",
    "\n",
    "# Create figure with secondary y-axis\n",
    "fig = make_subplots(specs=[[{\"secondary_y\": True}]])\n",
    "\n",
    "for timestep in range(5):  # Show timesteps 0 to 4\n",
    "    # Add SOC schedule trace on primary y-axis\n",
    "    fig.add_trace(\n",
    "        go.Scatter(\n",
    "            x=list(range(len(soc_schedules[timestep]))),\n",
    "            y=soc_schedules[timestep],\n",
    "            name=f\"SOC (t={timestep})\",\n",
    "            line=dict(color=soc_colors[timestep % len(soc_colors)]),\n",
    "            mode=\"lines\",\n",
    "            # line_shape=\"hv\"\n",
    "            showlegend=True\n",
    "        ),\n",
    "        secondary_y=False\n",
    "    )\n",
    "\n",
    "    # # Add power incremental path trace on secondary y-axis\n",
    "    # fig.add_trace(\n",
    "    #     go.Scatter(\n",
    "    #         x=list(range(len(power_incremental_schedules[timestep]))),\n",
    "    #         y=power_incremental_schedules[timestep],\n",
    "    #         name=f\"Power Incremental (t={timestep})\",\n",
    "    #         line=dict(color=price_colors[timestep % len(price_colors)], dash=\"dot\"),\n",
    "    #         mode=\"lines\",\n",
    "    #         line_shape=\"hv\",\n",
    "    #         showlegend=True\n",
    "    #     ),\n",
    "    #     secondary_y=True\n",
    "    # )\n",
    "\n",
    "    # # Add price path trace on secondary y-axis\n",
    "    fig.add_trace(\n",
    "        go.Scatter(\n",
    "            x=list(range(len(price_path[timestep, :]))),\n",
    "            y=price_path[timestep, :],\n",
    "            name=f\"Price (t={timestep})\",\n",
    "            line=dict(color=price_colors[timestep % len(price_colors)], dash=\"dot\"),\n",
    "            mode=\"lines\",\n",
    "            line_shape=\"hv\",\n",
    "            showlegend=True\n",
    "        ),\n",
    "        secondary_y=True\n",
    "    )\n",
    "\n",
    "# Set titles and labels with white background and dark text\n",
    "fig.update_layout(\n",
    "    title_text=\"Battery State of Charge and Price Path (Timesteps 0-4)\",\n",
    "    hovermode=\"x unified\",\n",
    "    template=\"plotly_white\",  # Use white template\n",
    "    paper_bgcolor=\"white\",  # White background color\n",
    "    plot_bgcolor=\"white\",\n",
    "    font=dict(color=\"black\")  # Black text\n",
    ")\n",
    "fig.update_xaxes(title_text=\"Time Step\", gridcolor=\"rgba(0, 0, 0, 0.1)\")\n",
    "fig.update_yaxes(title_text=\"State of Charge (SOC)\", secondary_y=False, gridcolor=\"rgba(0, 0, 0, 0.1)\")\n",
    "fig.update_yaxes(title_text=\"Price\", secondary_y=True, gridcolor=\"rgba(0, 0, 0, 0.1)\")\n",
    "\n",
    "# Show the interactive plot\n",
    "fig.show()"
   ]
  },
  {
   "cell_type": "code",
   "execution_count": 26,
   "metadata": {},
   "outputs": [
    {
     "data": {
      "application/vnd.plotly.v1+json": {
       "config": {
        "plotlyServerURL": "https://plot.ly"
       },
       "data": [
        {
         "line": {
          "color": "#00BFFF",
          "shape": "hv"
         },
         "mode": "lines",
         "name": "Revenues [€]",
         "type": "scatter",
         "x": [
          0,
          1,
          2,
          3,
          4,
          5,
          6,
          7,
          8,
          9,
          10,
          11,
          12,
          13,
          14,
          15,
          16,
          17,
          18,
          19,
          20,
          21,
          22,
          23,
          24,
          25,
          26,
          27,
          28,
          29,
          30,
          31
         ],
         "y": {
          "bdata": "9ihcj8L1LEA+CtejcD1JQGdmZmZmhklAZ2ZmZmaGSUB4d3d3d39nQCh90id9mmdAKH3SJ32aZ0AofdInfZpnQCh90id9mmdAKH3SJ32aZ0AofdInfZpnQCh90id9mmdAKH3SJ32aZ0AofdInfZpnQCh90id9mmdAKH3SJ32aZ0AofdInfZpnQCh90id9mmdAKH3SJ32aZ0AofdInfZpnQCh90id9mmdAKH3SJ32aZ0AofdInfZpnQCh90id9mmdAKH3SJ32aZ0AofdInfZpnQCh90id9mmdAKH3SJ32aZ0AofdInfZpnQCh90id9mmdAKH3SJ32aZ0AofdInfZpnQA==",
          "dtype": "f8"
         }
        }
       ],
       "layout": {
        "font": {
         "color": "white"
        },
        "hovermode": "x unified",
        "paper_bgcolor": "rgb(30, 30, 30)",
        "plot_bgcolor": "rgb(30, 30, 30)",
        "template": {
         "data": {
          "bar": [
           {
            "error_x": {
             "color": "#f2f5fa"
            },
            "error_y": {
             "color": "#f2f5fa"
            },
            "marker": {
             "line": {
              "color": "rgb(17,17,17)",
              "width": 0.5
             },
             "pattern": {
              "fillmode": "overlay",
              "size": 10,
              "solidity": 0.2
             }
            },
            "type": "bar"
           }
          ],
          "barpolar": [
           {
            "marker": {
             "line": {
              "color": "rgb(17,17,17)",
              "width": 0.5
             },
             "pattern": {
              "fillmode": "overlay",
              "size": 10,
              "solidity": 0.2
             }
            },
            "type": "barpolar"
           }
          ],
          "carpet": [
           {
            "aaxis": {
             "endlinecolor": "#A2B1C6",
             "gridcolor": "#506784",
             "linecolor": "#506784",
             "minorgridcolor": "#506784",
             "startlinecolor": "#A2B1C6"
            },
            "baxis": {
             "endlinecolor": "#A2B1C6",
             "gridcolor": "#506784",
             "linecolor": "#506784",
             "minorgridcolor": "#506784",
             "startlinecolor": "#A2B1C6"
            },
            "type": "carpet"
           }
          ],
          "choropleth": [
           {
            "colorbar": {
             "outlinewidth": 0,
             "ticks": ""
            },
            "type": "choropleth"
           }
          ],
          "contour": [
           {
            "colorbar": {
             "outlinewidth": 0,
             "ticks": ""
            },
            "colorscale": [
             [
              0,
              "#0d0887"
             ],
             [
              0.1111111111111111,
              "#46039f"
             ],
             [
              0.2222222222222222,
              "#7201a8"
             ],
             [
              0.3333333333333333,
              "#9c179e"
             ],
             [
              0.4444444444444444,
              "#bd3786"
             ],
             [
              0.5555555555555556,
              "#d8576b"
             ],
             [
              0.6666666666666666,
              "#ed7953"
             ],
             [
              0.7777777777777778,
              "#fb9f3a"
             ],
             [
              0.8888888888888888,
              "#fdca26"
             ],
             [
              1,
              "#f0f921"
             ]
            ],
            "type": "contour"
           }
          ],
          "contourcarpet": [
           {
            "colorbar": {
             "outlinewidth": 0,
             "ticks": ""
            },
            "type": "contourcarpet"
           }
          ],
          "heatmap": [
           {
            "colorbar": {
             "outlinewidth": 0,
             "ticks": ""
            },
            "colorscale": [
             [
              0,
              "#0d0887"
             ],
             [
              0.1111111111111111,
              "#46039f"
             ],
             [
              0.2222222222222222,
              "#7201a8"
             ],
             [
              0.3333333333333333,
              "#9c179e"
             ],
             [
              0.4444444444444444,
              "#bd3786"
             ],
             [
              0.5555555555555556,
              "#d8576b"
             ],
             [
              0.6666666666666666,
              "#ed7953"
             ],
             [
              0.7777777777777778,
              "#fb9f3a"
             ],
             [
              0.8888888888888888,
              "#fdca26"
             ],
             [
              1,
              "#f0f921"
             ]
            ],
            "type": "heatmap"
           }
          ],
          "histogram": [
           {
            "marker": {
             "pattern": {
              "fillmode": "overlay",
              "size": 10,
              "solidity": 0.2
             }
            },
            "type": "histogram"
           }
          ],
          "histogram2d": [
           {
            "colorbar": {
             "outlinewidth": 0,
             "ticks": ""
            },
            "colorscale": [
             [
              0,
              "#0d0887"
             ],
             [
              0.1111111111111111,
              "#46039f"
             ],
             [
              0.2222222222222222,
              "#7201a8"
             ],
             [
              0.3333333333333333,
              "#9c179e"
             ],
             [
              0.4444444444444444,
              "#bd3786"
             ],
             [
              0.5555555555555556,
              "#d8576b"
             ],
             [
              0.6666666666666666,
              "#ed7953"
             ],
             [
              0.7777777777777778,
              "#fb9f3a"
             ],
             [
              0.8888888888888888,
              "#fdca26"
             ],
             [
              1,
              "#f0f921"
             ]
            ],
            "type": "histogram2d"
           }
          ],
          "histogram2dcontour": [
           {
            "colorbar": {
             "outlinewidth": 0,
             "ticks": ""
            },
            "colorscale": [
             [
              0,
              "#0d0887"
             ],
             [
              0.1111111111111111,
              "#46039f"
             ],
             [
              0.2222222222222222,
              "#7201a8"
             ],
             [
              0.3333333333333333,
              "#9c179e"
             ],
             [
              0.4444444444444444,
              "#bd3786"
             ],
             [
              0.5555555555555556,
              "#d8576b"
             ],
             [
              0.6666666666666666,
              "#ed7953"
             ],
             [
              0.7777777777777778,
              "#fb9f3a"
             ],
             [
              0.8888888888888888,
              "#fdca26"
             ],
             [
              1,
              "#f0f921"
             ]
            ],
            "type": "histogram2dcontour"
           }
          ],
          "mesh3d": [
           {
            "colorbar": {
             "outlinewidth": 0,
             "ticks": ""
            },
            "type": "mesh3d"
           }
          ],
          "parcoords": [
           {
            "line": {
             "colorbar": {
              "outlinewidth": 0,
              "ticks": ""
             }
            },
            "type": "parcoords"
           }
          ],
          "pie": [
           {
            "automargin": true,
            "type": "pie"
           }
          ],
          "scatter": [
           {
            "marker": {
             "line": {
              "color": "#283442"
             }
            },
            "type": "scatter"
           }
          ],
          "scatter3d": [
           {
            "line": {
             "colorbar": {
              "outlinewidth": 0,
              "ticks": ""
             }
            },
            "marker": {
             "colorbar": {
              "outlinewidth": 0,
              "ticks": ""
             }
            },
            "type": "scatter3d"
           }
          ],
          "scattercarpet": [
           {
            "marker": {
             "colorbar": {
              "outlinewidth": 0,
              "ticks": ""
             }
            },
            "type": "scattercarpet"
           }
          ],
          "scattergeo": [
           {
            "marker": {
             "colorbar": {
              "outlinewidth": 0,
              "ticks": ""
             }
            },
            "type": "scattergeo"
           }
          ],
          "scattergl": [
           {
            "marker": {
             "line": {
              "color": "#283442"
             }
            },
            "type": "scattergl"
           }
          ],
          "scattermap": [
           {
            "marker": {
             "colorbar": {
              "outlinewidth": 0,
              "ticks": ""
             }
            },
            "type": "scattermap"
           }
          ],
          "scattermapbox": [
           {
            "marker": {
             "colorbar": {
              "outlinewidth": 0,
              "ticks": ""
             }
            },
            "type": "scattermapbox"
           }
          ],
          "scatterpolar": [
           {
            "marker": {
             "colorbar": {
              "outlinewidth": 0,
              "ticks": ""
             }
            },
            "type": "scatterpolar"
           }
          ],
          "scatterpolargl": [
           {
            "marker": {
             "colorbar": {
              "outlinewidth": 0,
              "ticks": ""
             }
            },
            "type": "scatterpolargl"
           }
          ],
          "scatterternary": [
           {
            "marker": {
             "colorbar": {
              "outlinewidth": 0,
              "ticks": ""
             }
            },
            "type": "scatterternary"
           }
          ],
          "surface": [
           {
            "colorbar": {
             "outlinewidth": 0,
             "ticks": ""
            },
            "colorscale": [
             [
              0,
              "#0d0887"
             ],
             [
              0.1111111111111111,
              "#46039f"
             ],
             [
              0.2222222222222222,
              "#7201a8"
             ],
             [
              0.3333333333333333,
              "#9c179e"
             ],
             [
              0.4444444444444444,
              "#bd3786"
             ],
             [
              0.5555555555555556,
              "#d8576b"
             ],
             [
              0.6666666666666666,
              "#ed7953"
             ],
             [
              0.7777777777777778,
              "#fb9f3a"
             ],
             [
              0.8888888888888888,
              "#fdca26"
             ],
             [
              1,
              "#f0f921"
             ]
            ],
            "type": "surface"
           }
          ],
          "table": [
           {
            "cells": {
             "fill": {
              "color": "#506784"
             },
             "line": {
              "color": "rgb(17,17,17)"
             }
            },
            "header": {
             "fill": {
              "color": "#2a3f5f"
             },
             "line": {
              "color": "rgb(17,17,17)"
             }
            },
            "type": "table"
           }
          ]
         },
         "layout": {
          "annotationdefaults": {
           "arrowcolor": "#f2f5fa",
           "arrowhead": 0,
           "arrowwidth": 1
          },
          "autotypenumbers": "strict",
          "coloraxis": {
           "colorbar": {
            "outlinewidth": 0,
            "ticks": ""
           }
          },
          "colorscale": {
           "diverging": [
            [
             0,
             "#8e0152"
            ],
            [
             0.1,
             "#c51b7d"
            ],
            [
             0.2,
             "#de77ae"
            ],
            [
             0.3,
             "#f1b6da"
            ],
            [
             0.4,
             "#fde0ef"
            ],
            [
             0.5,
             "#f7f7f7"
            ],
            [
             0.6,
             "#e6f5d0"
            ],
            [
             0.7,
             "#b8e186"
            ],
            [
             0.8,
             "#7fbc41"
            ],
            [
             0.9,
             "#4d9221"
            ],
            [
             1,
             "#276419"
            ]
           ],
           "sequential": [
            [
             0,
             "#0d0887"
            ],
            [
             0.1111111111111111,
             "#46039f"
            ],
            [
             0.2222222222222222,
             "#7201a8"
            ],
            [
             0.3333333333333333,
             "#9c179e"
            ],
            [
             0.4444444444444444,
             "#bd3786"
            ],
            [
             0.5555555555555556,
             "#d8576b"
            ],
            [
             0.6666666666666666,
             "#ed7953"
            ],
            [
             0.7777777777777778,
             "#fb9f3a"
            ],
            [
             0.8888888888888888,
             "#fdca26"
            ],
            [
             1,
             "#f0f921"
            ]
           ],
           "sequentialminus": [
            [
             0,
             "#0d0887"
            ],
            [
             0.1111111111111111,
             "#46039f"
            ],
            [
             0.2222222222222222,
             "#7201a8"
            ],
            [
             0.3333333333333333,
             "#9c179e"
            ],
            [
             0.4444444444444444,
             "#bd3786"
            ],
            [
             0.5555555555555556,
             "#d8576b"
            ],
            [
             0.6666666666666666,
             "#ed7953"
            ],
            [
             0.7777777777777778,
             "#fb9f3a"
            ],
            [
             0.8888888888888888,
             "#fdca26"
            ],
            [
             1,
             "#f0f921"
            ]
           ]
          },
          "colorway": [
           "#636efa",
           "#EF553B",
           "#00cc96",
           "#ab63fa",
           "#FFA15A",
           "#19d3f3",
           "#FF6692",
           "#B6E880",
           "#FF97FF",
           "#FECB52"
          ],
          "font": {
           "color": "#f2f5fa"
          },
          "geo": {
           "bgcolor": "rgb(17,17,17)",
           "lakecolor": "rgb(17,17,17)",
           "landcolor": "rgb(17,17,17)",
           "showlakes": true,
           "showland": true,
           "subunitcolor": "#506784"
          },
          "hoverlabel": {
           "align": "left"
          },
          "hovermode": "closest",
          "mapbox": {
           "style": "dark"
          },
          "paper_bgcolor": "rgb(17,17,17)",
          "plot_bgcolor": "rgb(17,17,17)",
          "polar": {
           "angularaxis": {
            "gridcolor": "#506784",
            "linecolor": "#506784",
            "ticks": ""
           },
           "bgcolor": "rgb(17,17,17)",
           "radialaxis": {
            "gridcolor": "#506784",
            "linecolor": "#506784",
            "ticks": ""
           }
          },
          "scene": {
           "xaxis": {
            "backgroundcolor": "rgb(17,17,17)",
            "gridcolor": "#506784",
            "gridwidth": 2,
            "linecolor": "#506784",
            "showbackground": true,
            "ticks": "",
            "zerolinecolor": "#C8D4E3"
           },
           "yaxis": {
            "backgroundcolor": "rgb(17,17,17)",
            "gridcolor": "#506784",
            "gridwidth": 2,
            "linecolor": "#506784",
            "showbackground": true,
            "ticks": "",
            "zerolinecolor": "#C8D4E3"
           },
           "zaxis": {
            "backgroundcolor": "rgb(17,17,17)",
            "gridcolor": "#506784",
            "gridwidth": 2,
            "linecolor": "#506784",
            "showbackground": true,
            "ticks": "",
            "zerolinecolor": "#C8D4E3"
           }
          },
          "shapedefaults": {
           "line": {
            "color": "#f2f5fa"
           }
          },
          "sliderdefaults": {
           "bgcolor": "#C8D4E3",
           "bordercolor": "rgb(17,17,17)",
           "borderwidth": 1,
           "tickwidth": 0
          },
          "ternary": {
           "aaxis": {
            "gridcolor": "#506784",
            "linecolor": "#506784",
            "ticks": ""
           },
           "baxis": {
            "gridcolor": "#506784",
            "linecolor": "#506784",
            "ticks": ""
           },
           "bgcolor": "rgb(17,17,17)",
           "caxis": {
            "gridcolor": "#506784",
            "linecolor": "#506784",
            "ticks": ""
           }
          },
          "title": {
           "x": 0.05
          },
          "updatemenudefaults": {
           "bgcolor": "#506784",
           "borderwidth": 0
          },
          "xaxis": {
           "automargin": true,
           "gridcolor": "#283442",
           "linecolor": "#506784",
           "ticks": "",
           "title": {
            "standoff": 15
           },
           "zerolinecolor": "#283442",
           "zerolinewidth": 2
          },
          "yaxis": {
           "automargin": true,
           "gridcolor": "#283442",
           "linecolor": "#506784",
           "ticks": "",
           "title": {
            "standoff": 15
           },
           "zerolinecolor": "#283442",
           "zerolinewidth": 2
          }
         }
        },
        "title": {
         "text": "Battery State of Charge and Price Path"
        },
        "xaxis": {
         "anchor": "y",
         "domain": [
          0,
          1
         ],
         "gridcolor": "rgba(255, 255, 255, 0.2)",
         "title": {
          "text": "Time Step"
         }
        },
        "yaxis": {
         "anchor": "x",
         "domain": [
          0,
          1
         ],
         "gridcolor": "rgba(255, 255, 255, 0.2)",
         "title": {
          "text": "Revenues [€]"
         }
        }
       }
      }
     },
     "metadata": {},
     "output_type": "display_data"
    }
   ],
   "source": [
    "\n",
    "fig = make_subplots()\n",
    "\n",
    "# Add SOC schedule trace on primary y-axis\n",
    "fig.add_trace(\n",
    "    go.Scatter(\n",
    "        x=list(range(len(results))),\n",
    "        y=results,\n",
    "        name=\"Revenues [€]\",\n",
    "        line=dict(color=\"#00BFFF\"),  # Bright blue for better visibility on dark theme\n",
    "        mode=\"lines\",\n",
    "        line_shape=\"hv\"\n",
    "    )\n",
    ")\n",
    "\n",
    "\n",
    "# Set titles and labels with dark theme\n",
    "fig.update_layout(\n",
    "    title_text=\"Battery State of Charge and Price Path\",\n",
    "    hovermode=\"x unified\",\n",
    "    template=\"plotly_dark\",  # Use dark template\n",
    "    paper_bgcolor=\"rgb(30, 30, 30)\",  # Dark background color\n",
    "    plot_bgcolor=\"rgb(30, 30, 30)\",\n",
    "    font=dict(color=\"white\")  # White text\n",
    ")\n",
    "fig.update_xaxes(title_text=\"Time Step\", gridcolor=\"rgba(255, 255, 255, 0.2)\")\n",
    "fig.update_yaxes(title_text=\"Revenues [€]\", secondary_y=False, gridcolor=\"rgba(255, 255, 255, 0.2)\")\n",
    "\n",
    "# Show the interactive plot\n",
    "fig.show()"
   ]
  },
  {
   "cell_type": "code",
   "execution_count": 4,
   "metadata": {},
   "outputs": [],
   "source": [
    "LSM_strategy = LSMStrategy(battery, price_generator_DA, config)"
   ]
  },
  {
   "cell_type": "code",
   "execution_count": 6,
   "metadata": {},
   "outputs": [
    {
     "ename": "IndexError",
     "evalue": "index 0 is out of bounds for axis 0 with size 0",
     "output_type": "error",
     "traceback": [
      "\u001b[31m---------------------------------------------------------------------------\u001b[39m",
      "\u001b[31mIndexError\u001b[39m                                Traceback (most recent call last)",
      "\u001b[36mCell\u001b[39m\u001b[36m \u001b[39m\u001b[32mIn[6]\u001b[39m\u001b[32m, line 1\u001b[39m\n\u001b[32m----> \u001b[39m\u001b[32m1\u001b[39m \u001b[43mLSM_strategy\u001b[49m\u001b[43m.\u001b[49m\u001b[43mrun\u001b[49m\u001b[43m(\u001b[49m\u001b[43m)\u001b[49m\n",
      "\u001b[36mFile \u001b[39m\u001b[32m~/Mijn Drive/Studie/Masters/Thesis/battery_intraday_trading/src/optimization/LSM.py:86\u001b[39m, in \u001b[36mLSMStrategy.run\u001b[39m\u001b[34m(self)\u001b[39m\n\u001b[32m     75\u001b[39m \u001b[38;5;28;01mdef\u001b[39;00m\u001b[38;5;250m \u001b[39m\u001b[34mrun\u001b[39m(\u001b[38;5;28mself\u001b[39m):\n\u001b[32m     76\u001b[39m \u001b[38;5;250m    \u001b[39m\u001b[33;03m\"\"\"\u001b[39;00m\n\u001b[32m     77\u001b[39m \u001b[33;03m    Execute the trading strategy over the simulation period.\u001b[39;00m\n\u001b[32m     78\u001b[39m \u001b[33;03m    Must return a pandas DataFrame with at least: time, action, soc, price.\u001b[39;00m\n\u001b[32m     79\u001b[39m \u001b[33;03m    \"\"\"\u001b[39;00m\n\u001b[32m     80\u001b[39m     (\n\u001b[32m     81\u001b[39m         \u001b[38;5;28mself\u001b[39m.results[\u001b[33m\"\u001b[39m\u001b[33mcontinuation_values\u001b[39m\u001b[33m\"\u001b[39m],\n\u001b[32m     82\u001b[39m         \u001b[38;5;28mself\u001b[39m.results[\u001b[33m\"\u001b[39m\u001b[33mpi\u001b[39m\u001b[33m\"\u001b[39m],\n\u001b[32m     83\u001b[39m         \u001b[38;5;28mself\u001b[39m.results[\u001b[33m\"\u001b[39m\u001b[33mafc\u001b[39m\u001b[33m\"\u001b[39m],\n\u001b[32m     84\u001b[39m         \u001b[38;5;28mself\u001b[39m.results[\u001b[33m\"\u001b[39m\u001b[33mpolynomial_coefficients\u001b[39m\u001b[33m\"\u001b[39m],\n\u001b[32m     85\u001b[39m         \u001b[38;5;28mself\u001b[39m.results[\u001b[33m\"\u001b[39m\u001b[33mvalue_of_storage\u001b[39m\u001b[33m\"\u001b[39m],\n\u001b[32m---> \u001b[39m\u001b[32m86\u001b[39m     ) = \u001b[38;5;28;43mself\u001b[39;49m\u001b[43m.\u001b[49m\u001b[43mLSM_algorithm\u001b[49m\u001b[43m(\u001b[49m\u001b[43m)\u001b[49m\n\u001b[32m     87\u001b[39m     \u001b[38;5;28;01mreturn\u001b[39;00m \u001b[38;5;28mself\u001b[39m.results\n",
      "\u001b[36mFile \u001b[39m\u001b[32m~/Mijn Drive/Studie/Masters/Thesis/battery_intraday_trading/src/optimization/LSM.py:214\u001b[39m, in \u001b[36mLSMStrategy.LSM_algorithm\u001b[39m\u001b[34m(self)\u001b[39m\n\u001b[32m    207\u001b[39m         \u001b[38;5;66;03m# Calculate the AFC\u001b[39;00m\n\u001b[32m    208\u001b[39m         \u001b[38;5;28;01mfor\u001b[39;00m m \u001b[38;5;129;01min\u001b[39;00m \u001b[38;5;28mrange\u001b[39m(\u001b[38;5;28mself\u001b[39m.N_price_paths):\n\u001b[32m    209\u001b[39m             afc[m, t, soc_level_index] = (\n\u001b[32m    210\u001b[39m                 \u001b[38;5;28mself\u001b[39m.pay_off_function(\n\u001b[32m    211\u001b[39m                     \u001b[38;5;28mself\u001b[39m.price_paths[m, t],\n\u001b[32m    212\u001b[39m                     pi[m, t, soc_level_index],\n\u001b[32m    213\u001b[39m                 )\n\u001b[32m--> \u001b[39m\u001b[32m214\u001b[39m                 + \u001b[43mafc\u001b[49m\u001b[43m[\u001b[49m\n\u001b[32m    215\u001b[39m \u001b[43m                    \u001b[49m\u001b[43mm\u001b[49m\u001b[43m,\u001b[49m\n\u001b[32m    216\u001b[39m \u001b[43m                    \u001b[49m\u001b[43mt\u001b[49m\u001b[43m \u001b[49m\u001b[43m+\u001b[49m\u001b[43m \u001b[49m\u001b[32;43m1\u001b[39;49m\u001b[43m,\u001b[49m\n\u001b[32m    217\u001b[39m \u001b[43m                    \u001b[49m\u001b[43mnp\u001b[49m\u001b[43m.\u001b[49m\u001b[43mwhere\u001b[49m\u001b[43m(\u001b[49m\n\u001b[32m    218\u001b[39m \u001b[43m                        \u001b[49m\u001b[38;5;28;43mself\u001b[39;49m\u001b[43m.\u001b[49m\u001b[43mSOC_levels\u001b[49m\n\u001b[32m    219\u001b[39m \u001b[43m                        \u001b[49m\u001b[43m==\u001b[49m\u001b[43m \u001b[49m\u001b[43m(\u001b[49m\u001b[43msoc_level\u001b[49m\u001b[43m \u001b[49m\u001b[43m-\u001b[49m\u001b[43m \u001b[49m\u001b[43mpi\u001b[49m\u001b[43m[\u001b[49m\u001b[43mm\u001b[49m\u001b[43m,\u001b[49m\u001b[43m \u001b[49m\u001b[43mt\u001b[49m\u001b[43m,\u001b[49m\u001b[43m \u001b[49m\u001b[43msoc_level_index\u001b[49m\u001b[43m]\u001b[49m\u001b[43m)\u001b[49m\n\u001b[32m    220\u001b[39m \u001b[43m                    \u001b[49m\u001b[43m)\u001b[49m\u001b[43m[\u001b[49m\u001b[32;43m0\u001b[39;49m\u001b[43m]\u001b[49m\u001b[43m,\u001b[49m\n\u001b[32m    221\u001b[39m \u001b[43m                \u001b[49m\u001b[43m]\u001b[49m\u001b[43m[\u001b[49m\u001b[32;43m0\u001b[39;49m\u001b[43m]\u001b[49m\n\u001b[32m    222\u001b[39m             )\n\u001b[32m    223\u001b[39m value_of_storage = np.mean(afc[:, \u001b[32m0\u001b[39m, \u001b[38;5;28mself\u001b[39m.initial_SOC_level_index])\n\u001b[32m    225\u001b[39m \u001b[38;5;66;03m# Store results in the results dictionary.\u001b[39;00m\n",
      "\u001b[31mIndexError\u001b[39m: index 0 is out of bounds for axis 0 with size 0"
     ]
    }
   ],
   "source": [
    "LSM_strategy.run()"
   ]
  },
  {
   "cell_type": "code",
   "execution_count": null,
   "metadata": {},
   "outputs": [],
   "source": []
  }
 ],
 "metadata": {
  "kernelspec": {
   "display_name": ".venv",
   "language": "python",
   "name": "python3"
  },
  "language_info": {
   "codemirror_mode": {
    "name": "ipython",
    "version": 3
   },
   "file_extension": ".py",
   "mimetype": "text/x-python",
   "name": "python",
   "nbconvert_exporter": "python",
   "pygments_lexer": "ipython3",
   "version": "3.12.2"
  }
 },
 "nbformat": 4,
 "nbformat_minor": 2
}
